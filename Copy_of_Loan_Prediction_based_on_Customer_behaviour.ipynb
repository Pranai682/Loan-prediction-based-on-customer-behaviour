{
  "cells": [
    {
      "cell_type": "code",
      "execution_count": null,
      "metadata": {
        "colab": {
          "base_uri": "https://localhost:8080/",
          "height": 17
        },
        "id": "71V9gc9v9E4i",
        "outputId": "e0c79cbc-7aab-4aac-be30-b28af65f8a8b"
      },
      "outputs": [
        {
          "output_type": "display_data",
          "data": {
            "text/html": [
              "        <script type=\"text/javascript\">\n",
              "        window.PlotlyConfig = {MathJaxConfig: 'local'};\n",
              "        if (window.MathJax && window.MathJax.Hub && window.MathJax.Hub.Config) {window.MathJax.Hub.Config({SVG: {font: \"STIX-Web\"}});}\n",
              "        if (typeof require !== 'undefined') {\n",
              "        require.undef(\"plotly\");\n",
              "        requirejs.config({\n",
              "            paths: {\n",
              "                'plotly': ['https://cdn.plot.ly/plotly-2.24.1.min']\n",
              "            }\n",
              "        });\n",
              "        require(['plotly'], function(Plotly) {\n",
              "            window._Plotly = Plotly;\n",
              "        });\n",
              "        }\n",
              "        </script>\n",
              "        "
            ]
          },
          "metadata": {}
        }
      ],
      "source": [
        "import numpy as np\n",
        "import pandas as pd\n",
        "\n",
        "import matplotlib.pyplot as plt\n",
        "import plotly.express as px\n",
        "from plotly.offline import init_notebook_mode, iplot\n",
        "import seaborn as sns\n",
        "sns.set_theme(style = \"darkgrid\")\n",
        "\n",
        "init_notebook_mode(connected=True)\n",
        "%matplotlib inline\n",
        "\n",
        "from sklearn.decomposition import PCA\n",
        "\n",
        "from sklearn.preprocessing import StandardScaler\n",
        "from sklearn.model_selection import train_test_split\n",
        "from sklearn.model_selection import cross_val_score\n",
        "from sklearn.model_selection import GridSearchCV, RandomizedSearchCV\n",
        "from sklearn.preprocessing import LabelEncoder\n",
        "from sklearn.preprocessing import OneHotEncoder\n",
        "\n",
        "\n",
        "from sklearn.metrics import confusion_matrix, precision_score, recall_score, f1_score, accuracy_score, roc_auc_score\n",
        "\n",
        "import pickle"
      ]
    },
    {
      "cell_type": "code",
      "execution_count": null,
      "metadata": {
        "colab": {
          "base_uri": "https://localhost:8080/"
        },
        "id": "GcoqhDPA9E7A",
        "outputId": "62de5343-5954-4096-cae5-e04a0173a4b6"
      },
      "outputs": [
        {
          "output_type": "stream",
          "name": "stdout",
          "text": [
            "Dataset unzipped.\n"
          ]
        }
      ],
      "source": [
        "# This code will unzip the specified dataset in Colab.\n",
        "\n",
        "# Import the necessary libraries.\n",
        "import zipfile\n",
        "import os\n",
        "\n",
        "# Specify the path to the dataset file.\n",
        "dataset_file = '/content/Loan Prediction dataset (2).zip'\n",
        "\n",
        "# Extract the files from the ZIP archive.\n",
        "with zipfile.ZipFile(dataset_file) as zip_ref:\n",
        "  zip_ref.extractall()\n",
        "\n",
        "# Print a message indicating that the dataset has been unzipped.\n",
        "print('Dataset unzipped.')"
      ]
    },
    {
      "cell_type": "code",
      "execution_count": null,
      "metadata": {
        "colab": {
          "base_uri": "https://localhost:8080/",
          "height": 226
        },
        "id": "dwj4RXQX9E9u",
        "outputId": "ae58f4f1-333d-4ec0-b230-4b8df82b2489"
      },
      "outputs": [
        {
          "output_type": "execute_result",
          "data": {
            "text/plain": [
              "   Id   Income  Age  Experience Married/Single House_Ownership Car_Ownership  \\\n",
              "0   1  1303834   23           3         single          rented            no   \n",
              "1   2  7574516   40          10         single          rented            no   \n",
              "2   3  3991815   66           4        married          rented            no   \n",
              "3   4  6256451   41           2         single          rented           yes   \n",
              "4   5  5768871   47          11         single          rented            no   \n",
              "\n",
              "            Profession                 CITY           STATE  CURRENT_JOB_YRS  \\\n",
              "0  Mechanical_engineer                 Rewa  Madhya_Pradesh                3   \n",
              "1   Software_Developer             Parbhani     Maharashtra                9   \n",
              "2     Technical_writer            Alappuzha          Kerala                4   \n",
              "3   Software_Developer          Bhubaneswar          Odisha                2   \n",
              "4        Civil_servant  Tiruchirappalli[10]      Tamil_Nadu                3   \n",
              "\n",
              "   CURRENT_HOUSE_YRS  Risk_Flag  \n",
              "0                 13          0  \n",
              "1                 13          0  \n",
              "2                 10          0  \n",
              "3                 12          1  \n",
              "4                 14          1  "
            ],
            "text/html": [
              "\n",
              "  <div id=\"df-a41e7227-0f43-47e6-b6bd-f95ce458cce2\" class=\"colab-df-container\">\n",
              "    <div>\n",
              "<style scoped>\n",
              "    .dataframe tbody tr th:only-of-type {\n",
              "        vertical-align: middle;\n",
              "    }\n",
              "\n",
              "    .dataframe tbody tr th {\n",
              "        vertical-align: top;\n",
              "    }\n",
              "\n",
              "    .dataframe thead th {\n",
              "        text-align: right;\n",
              "    }\n",
              "</style>\n",
              "<table border=\"1\" class=\"dataframe\">\n",
              "  <thead>\n",
              "    <tr style=\"text-align: right;\">\n",
              "      <th></th>\n",
              "      <th>Id</th>\n",
              "      <th>Income</th>\n",
              "      <th>Age</th>\n",
              "      <th>Experience</th>\n",
              "      <th>Married/Single</th>\n",
              "      <th>House_Ownership</th>\n",
              "      <th>Car_Ownership</th>\n",
              "      <th>Profession</th>\n",
              "      <th>CITY</th>\n",
              "      <th>STATE</th>\n",
              "      <th>CURRENT_JOB_YRS</th>\n",
              "      <th>CURRENT_HOUSE_YRS</th>\n",
              "      <th>Risk_Flag</th>\n",
              "    </tr>\n",
              "  </thead>\n",
              "  <tbody>\n",
              "    <tr>\n",
              "      <th>0</th>\n",
              "      <td>1</td>\n",
              "      <td>1303834</td>\n",
              "      <td>23</td>\n",
              "      <td>3</td>\n",
              "      <td>single</td>\n",
              "      <td>rented</td>\n",
              "      <td>no</td>\n",
              "      <td>Mechanical_engineer</td>\n",
              "      <td>Rewa</td>\n",
              "      <td>Madhya_Pradesh</td>\n",
              "      <td>3</td>\n",
              "      <td>13</td>\n",
              "      <td>0</td>\n",
              "    </tr>\n",
              "    <tr>\n",
              "      <th>1</th>\n",
              "      <td>2</td>\n",
              "      <td>7574516</td>\n",
              "      <td>40</td>\n",
              "      <td>10</td>\n",
              "      <td>single</td>\n",
              "      <td>rented</td>\n",
              "      <td>no</td>\n",
              "      <td>Software_Developer</td>\n",
              "      <td>Parbhani</td>\n",
              "      <td>Maharashtra</td>\n",
              "      <td>9</td>\n",
              "      <td>13</td>\n",
              "      <td>0</td>\n",
              "    </tr>\n",
              "    <tr>\n",
              "      <th>2</th>\n",
              "      <td>3</td>\n",
              "      <td>3991815</td>\n",
              "      <td>66</td>\n",
              "      <td>4</td>\n",
              "      <td>married</td>\n",
              "      <td>rented</td>\n",
              "      <td>no</td>\n",
              "      <td>Technical_writer</td>\n",
              "      <td>Alappuzha</td>\n",
              "      <td>Kerala</td>\n",
              "      <td>4</td>\n",
              "      <td>10</td>\n",
              "      <td>0</td>\n",
              "    </tr>\n",
              "    <tr>\n",
              "      <th>3</th>\n",
              "      <td>4</td>\n",
              "      <td>6256451</td>\n",
              "      <td>41</td>\n",
              "      <td>2</td>\n",
              "      <td>single</td>\n",
              "      <td>rented</td>\n",
              "      <td>yes</td>\n",
              "      <td>Software_Developer</td>\n",
              "      <td>Bhubaneswar</td>\n",
              "      <td>Odisha</td>\n",
              "      <td>2</td>\n",
              "      <td>12</td>\n",
              "      <td>1</td>\n",
              "    </tr>\n",
              "    <tr>\n",
              "      <th>4</th>\n",
              "      <td>5</td>\n",
              "      <td>5768871</td>\n",
              "      <td>47</td>\n",
              "      <td>11</td>\n",
              "      <td>single</td>\n",
              "      <td>rented</td>\n",
              "      <td>no</td>\n",
              "      <td>Civil_servant</td>\n",
              "      <td>Tiruchirappalli[10]</td>\n",
              "      <td>Tamil_Nadu</td>\n",
              "      <td>3</td>\n",
              "      <td>14</td>\n",
              "      <td>1</td>\n",
              "    </tr>\n",
              "  </tbody>\n",
              "</table>\n",
              "</div>\n",
              "    <div class=\"colab-df-buttons\">\n",
              "\n",
              "  <div class=\"colab-df-container\">\n",
              "    <button class=\"colab-df-convert\" onclick=\"convertToInteractive('df-a41e7227-0f43-47e6-b6bd-f95ce458cce2')\"\n",
              "            title=\"Convert this dataframe to an interactive table.\"\n",
              "            style=\"display:none;\">\n",
              "\n",
              "  <svg xmlns=\"http://www.w3.org/2000/svg\" height=\"24px\" viewBox=\"0 -960 960 960\">\n",
              "    <path d=\"M120-120v-720h720v720H120Zm60-500h600v-160H180v160Zm220 220h160v-160H400v160Zm0 220h160v-160H400v160ZM180-400h160v-160H180v160Zm440 0h160v-160H620v160ZM180-180h160v-160H180v160Zm440 0h160v-160H620v160Z\"/>\n",
              "  </svg>\n",
              "    </button>\n",
              "\n",
              "  <style>\n",
              "    .colab-df-container {\n",
              "      display:flex;\n",
              "      gap: 12px;\n",
              "    }\n",
              "\n",
              "    .colab-df-convert {\n",
              "      background-color: #E8F0FE;\n",
              "      border: none;\n",
              "      border-radius: 50%;\n",
              "      cursor: pointer;\n",
              "      display: none;\n",
              "      fill: #1967D2;\n",
              "      height: 32px;\n",
              "      padding: 0 0 0 0;\n",
              "      width: 32px;\n",
              "    }\n",
              "\n",
              "    .colab-df-convert:hover {\n",
              "      background-color: #E2EBFA;\n",
              "      box-shadow: 0px 1px 2px rgba(60, 64, 67, 0.3), 0px 1px 3px 1px rgba(60, 64, 67, 0.15);\n",
              "      fill: #174EA6;\n",
              "    }\n",
              "\n",
              "    .colab-df-buttons div {\n",
              "      margin-bottom: 4px;\n",
              "    }\n",
              "\n",
              "    [theme=dark] .colab-df-convert {\n",
              "      background-color: #3B4455;\n",
              "      fill: #D2E3FC;\n",
              "    }\n",
              "\n",
              "    [theme=dark] .colab-df-convert:hover {\n",
              "      background-color: #434B5C;\n",
              "      box-shadow: 0px 1px 3px 1px rgba(0, 0, 0, 0.15);\n",
              "      filter: drop-shadow(0px 1px 2px rgba(0, 0, 0, 0.3));\n",
              "      fill: #FFFFFF;\n",
              "    }\n",
              "  </style>\n",
              "\n",
              "    <script>\n",
              "      const buttonEl =\n",
              "        document.querySelector('#df-a41e7227-0f43-47e6-b6bd-f95ce458cce2 button.colab-df-convert');\n",
              "      buttonEl.style.display =\n",
              "        google.colab.kernel.accessAllowed ? 'block' : 'none';\n",
              "\n",
              "      async function convertToInteractive(key) {\n",
              "        const element = document.querySelector('#df-a41e7227-0f43-47e6-b6bd-f95ce458cce2');\n",
              "        const dataTable =\n",
              "          await google.colab.kernel.invokeFunction('convertToInteractive',\n",
              "                                                    [key], {});\n",
              "        if (!dataTable) return;\n",
              "\n",
              "        const docLinkHtml = 'Like what you see? Visit the ' +\n",
              "          '<a target=\"_blank\" href=https://colab.research.google.com/notebooks/data_table.ipynb>data table notebook</a>'\n",
              "          + ' to learn more about interactive tables.';\n",
              "        element.innerHTML = '';\n",
              "        dataTable['output_type'] = 'display_data';\n",
              "        await google.colab.output.renderOutput(dataTable, element);\n",
              "        const docLink = document.createElement('div');\n",
              "        docLink.innerHTML = docLinkHtml;\n",
              "        element.appendChild(docLink);\n",
              "      }\n",
              "    </script>\n",
              "  </div>\n",
              "\n",
              "\n",
              "<div id=\"df-d4156b28-44dd-4aad-aeae-1f7555c2dd5a\">\n",
              "  <button class=\"colab-df-quickchart\" onclick=\"quickchart('df-d4156b28-44dd-4aad-aeae-1f7555c2dd5a')\"\n",
              "            title=\"Suggest charts\"\n",
              "            style=\"display:none;\">\n",
              "\n",
              "<svg xmlns=\"http://www.w3.org/2000/svg\" height=\"24px\"viewBox=\"0 0 24 24\"\n",
              "     width=\"24px\">\n",
              "    <g>\n",
              "        <path d=\"M19 3H5c-1.1 0-2 .9-2 2v14c0 1.1.9 2 2 2h14c1.1 0 2-.9 2-2V5c0-1.1-.9-2-2-2zM9 17H7v-7h2v7zm4 0h-2V7h2v10zm4 0h-2v-4h2v4z\"/>\n",
              "    </g>\n",
              "</svg>\n",
              "  </button>\n",
              "\n",
              "<style>\n",
              "  .colab-df-quickchart {\n",
              "      --bg-color: #E8F0FE;\n",
              "      --fill-color: #1967D2;\n",
              "      --hover-bg-color: #E2EBFA;\n",
              "      --hover-fill-color: #174EA6;\n",
              "      --disabled-fill-color: #AAA;\n",
              "      --disabled-bg-color: #DDD;\n",
              "  }\n",
              "\n",
              "  [theme=dark] .colab-df-quickchart {\n",
              "      --bg-color: #3B4455;\n",
              "      --fill-color: #D2E3FC;\n",
              "      --hover-bg-color: #434B5C;\n",
              "      --hover-fill-color: #FFFFFF;\n",
              "      --disabled-bg-color: #3B4455;\n",
              "      --disabled-fill-color: #666;\n",
              "  }\n",
              "\n",
              "  .colab-df-quickchart {\n",
              "    background-color: var(--bg-color);\n",
              "    border: none;\n",
              "    border-radius: 50%;\n",
              "    cursor: pointer;\n",
              "    display: none;\n",
              "    fill: var(--fill-color);\n",
              "    height: 32px;\n",
              "    padding: 0;\n",
              "    width: 32px;\n",
              "  }\n",
              "\n",
              "  .colab-df-quickchart:hover {\n",
              "    background-color: var(--hover-bg-color);\n",
              "    box-shadow: 0 1px 2px rgba(60, 64, 67, 0.3), 0 1px 3px 1px rgba(60, 64, 67, 0.15);\n",
              "    fill: var(--button-hover-fill-color);\n",
              "  }\n",
              "\n",
              "  .colab-df-quickchart-complete:disabled,\n",
              "  .colab-df-quickchart-complete:disabled:hover {\n",
              "    background-color: var(--disabled-bg-color);\n",
              "    fill: var(--disabled-fill-color);\n",
              "    box-shadow: none;\n",
              "  }\n",
              "\n",
              "  .colab-df-spinner {\n",
              "    border: 2px solid var(--fill-color);\n",
              "    border-color: transparent;\n",
              "    border-bottom-color: var(--fill-color);\n",
              "    animation:\n",
              "      spin 1s steps(1) infinite;\n",
              "  }\n",
              "\n",
              "  @keyframes spin {\n",
              "    0% {\n",
              "      border-color: transparent;\n",
              "      border-bottom-color: var(--fill-color);\n",
              "      border-left-color: var(--fill-color);\n",
              "    }\n",
              "    20% {\n",
              "      border-color: transparent;\n",
              "      border-left-color: var(--fill-color);\n",
              "      border-top-color: var(--fill-color);\n",
              "    }\n",
              "    30% {\n",
              "      border-color: transparent;\n",
              "      border-left-color: var(--fill-color);\n",
              "      border-top-color: var(--fill-color);\n",
              "      border-right-color: var(--fill-color);\n",
              "    }\n",
              "    40% {\n",
              "      border-color: transparent;\n",
              "      border-right-color: var(--fill-color);\n",
              "      border-top-color: var(--fill-color);\n",
              "    }\n",
              "    60% {\n",
              "      border-color: transparent;\n",
              "      border-right-color: var(--fill-color);\n",
              "    }\n",
              "    80% {\n",
              "      border-color: transparent;\n",
              "      border-right-color: var(--fill-color);\n",
              "      border-bottom-color: var(--fill-color);\n",
              "    }\n",
              "    90% {\n",
              "      border-color: transparent;\n",
              "      border-bottom-color: var(--fill-color);\n",
              "    }\n",
              "  }\n",
              "</style>\n",
              "\n",
              "  <script>\n",
              "    async function quickchart(key) {\n",
              "      const quickchartButtonEl =\n",
              "        document.querySelector('#' + key + ' button');\n",
              "      quickchartButtonEl.disabled = true;  // To prevent multiple clicks.\n",
              "      quickchartButtonEl.classList.add('colab-df-spinner');\n",
              "      try {\n",
              "        const charts = await google.colab.kernel.invokeFunction(\n",
              "            'suggestCharts', [key], {});\n",
              "      } catch (error) {\n",
              "        console.error('Error during call to suggestCharts:', error);\n",
              "      }\n",
              "      quickchartButtonEl.classList.remove('colab-df-spinner');\n",
              "      quickchartButtonEl.classList.add('colab-df-quickchart-complete');\n",
              "    }\n",
              "    (() => {\n",
              "      let quickchartButtonEl =\n",
              "        document.querySelector('#df-d4156b28-44dd-4aad-aeae-1f7555c2dd5a button');\n",
              "      quickchartButtonEl.style.display =\n",
              "        google.colab.kernel.accessAllowed ? 'block' : 'none';\n",
              "    })();\n",
              "  </script>\n",
              "</div>\n",
              "    </div>\n",
              "  </div>\n"
            ]
          },
          "metadata": {},
          "execution_count": 3
        }
      ],
      "source": [
        "df = pd.read_csv(\"/content/Loan Prediction dataset/Training Data.csv\")\n",
        "df.head()"
      ]
    },
    {
      "cell_type": "code",
      "execution_count": null,
      "metadata": {
        "colab": {
          "base_uri": "https://localhost:8080/"
        },
        "id": "QVJluEmU9FAP",
        "outputId": "28e48484-e122-4047-ba44-cab734965951"
      },
      "outputs": [
        {
          "output_type": "stream",
          "name": "stdout",
          "text": [
            "Rows: 252000\n",
            "Columns: 13\n"
          ]
        }
      ],
      "source": [
        "rows, columns = df.shape\n",
        "print('Rows:', rows)\n",
        "print('Columns:', columns)"
      ]
    },
    {
      "cell_type": "code",
      "execution_count": null,
      "metadata": {
        "colab": {
          "base_uri": "https://localhost:8080/",
          "height": 226
        },
        "id": "Xyda2V1B9FDz",
        "outputId": "914a7ecd-367c-457d-a334-95e9d7604861"
      },
      "outputs": [
        {
          "output_type": "execute_result",
          "data": {
            "text/plain": [
              "            Id   Income  Age  Experience Married/Single House_Ownership  \\\n",
              "32884    32885  4792641   40          15         single          rented   \n",
              "69421    69422  8750833   50          19         single          rented   \n",
              "111041  111042  9840303   24           4         single           owned   \n",
              "104041  104042  3565306   68           0         single          rented   \n",
              "23769    23770  7186684   55           3         single          rented   \n",
              "\n",
              "       Car_Ownership          Profession       CITY           STATE  \\\n",
              "32884            yes  Software_Developer   Kakinada  Andhra_Pradesh   \n",
              "69421             no            Engineer  Proddatur  Andhra_Pradesh   \n",
              "111041            no             Aviator   Gudivada  Andhra_Pradesh   \n",
              "104041           yes             Drafter    Giridih       Jharkhand   \n",
              "23769            yes        Statistician    Gwalior  Madhya_Pradesh   \n",
              "\n",
              "        CURRENT_JOB_YRS  CURRENT_HOUSE_YRS  Risk_Flag  \n",
              "32884                13                 10          0  \n",
              "69421                11                 11          0  \n",
              "111041                4                 11          0  \n",
              "104041                0                 14          0  \n",
              "23769                 3                 12          0  "
            ],
            "text/html": [
              "\n",
              "  <div id=\"df-665aa0bc-3b58-431b-b801-d8de2a38d36d\" class=\"colab-df-container\">\n",
              "    <div>\n",
              "<style scoped>\n",
              "    .dataframe tbody tr th:only-of-type {\n",
              "        vertical-align: middle;\n",
              "    }\n",
              "\n",
              "    .dataframe tbody tr th {\n",
              "        vertical-align: top;\n",
              "    }\n",
              "\n",
              "    .dataframe thead th {\n",
              "        text-align: right;\n",
              "    }\n",
              "</style>\n",
              "<table border=\"1\" class=\"dataframe\">\n",
              "  <thead>\n",
              "    <tr style=\"text-align: right;\">\n",
              "      <th></th>\n",
              "      <th>Id</th>\n",
              "      <th>Income</th>\n",
              "      <th>Age</th>\n",
              "      <th>Experience</th>\n",
              "      <th>Married/Single</th>\n",
              "      <th>House_Ownership</th>\n",
              "      <th>Car_Ownership</th>\n",
              "      <th>Profession</th>\n",
              "      <th>CITY</th>\n",
              "      <th>STATE</th>\n",
              "      <th>CURRENT_JOB_YRS</th>\n",
              "      <th>CURRENT_HOUSE_YRS</th>\n",
              "      <th>Risk_Flag</th>\n",
              "    </tr>\n",
              "  </thead>\n",
              "  <tbody>\n",
              "    <tr>\n",
              "      <th>32884</th>\n",
              "      <td>32885</td>\n",
              "      <td>4792641</td>\n",
              "      <td>40</td>\n",
              "      <td>15</td>\n",
              "      <td>single</td>\n",
              "      <td>rented</td>\n",
              "      <td>yes</td>\n",
              "      <td>Software_Developer</td>\n",
              "      <td>Kakinada</td>\n",
              "      <td>Andhra_Pradesh</td>\n",
              "      <td>13</td>\n",
              "      <td>10</td>\n",
              "      <td>0</td>\n",
              "    </tr>\n",
              "    <tr>\n",
              "      <th>69421</th>\n",
              "      <td>69422</td>\n",
              "      <td>8750833</td>\n",
              "      <td>50</td>\n",
              "      <td>19</td>\n",
              "      <td>single</td>\n",
              "      <td>rented</td>\n",
              "      <td>no</td>\n",
              "      <td>Engineer</td>\n",
              "      <td>Proddatur</td>\n",
              "      <td>Andhra_Pradesh</td>\n",
              "      <td>11</td>\n",
              "      <td>11</td>\n",
              "      <td>0</td>\n",
              "    </tr>\n",
              "    <tr>\n",
              "      <th>111041</th>\n",
              "      <td>111042</td>\n",
              "      <td>9840303</td>\n",
              "      <td>24</td>\n",
              "      <td>4</td>\n",
              "      <td>single</td>\n",
              "      <td>owned</td>\n",
              "      <td>no</td>\n",
              "      <td>Aviator</td>\n",
              "      <td>Gudivada</td>\n",
              "      <td>Andhra_Pradesh</td>\n",
              "      <td>4</td>\n",
              "      <td>11</td>\n",
              "      <td>0</td>\n",
              "    </tr>\n",
              "    <tr>\n",
              "      <th>104041</th>\n",
              "      <td>104042</td>\n",
              "      <td>3565306</td>\n",
              "      <td>68</td>\n",
              "      <td>0</td>\n",
              "      <td>single</td>\n",
              "      <td>rented</td>\n",
              "      <td>yes</td>\n",
              "      <td>Drafter</td>\n",
              "      <td>Giridih</td>\n",
              "      <td>Jharkhand</td>\n",
              "      <td>0</td>\n",
              "      <td>14</td>\n",
              "      <td>0</td>\n",
              "    </tr>\n",
              "    <tr>\n",
              "      <th>23769</th>\n",
              "      <td>23770</td>\n",
              "      <td>7186684</td>\n",
              "      <td>55</td>\n",
              "      <td>3</td>\n",
              "      <td>single</td>\n",
              "      <td>rented</td>\n",
              "      <td>yes</td>\n",
              "      <td>Statistician</td>\n",
              "      <td>Gwalior</td>\n",
              "      <td>Madhya_Pradesh</td>\n",
              "      <td>3</td>\n",
              "      <td>12</td>\n",
              "      <td>0</td>\n",
              "    </tr>\n",
              "  </tbody>\n",
              "</table>\n",
              "</div>\n",
              "    <div class=\"colab-df-buttons\">\n",
              "\n",
              "  <div class=\"colab-df-container\">\n",
              "    <button class=\"colab-df-convert\" onclick=\"convertToInteractive('df-665aa0bc-3b58-431b-b801-d8de2a38d36d')\"\n",
              "            title=\"Convert this dataframe to an interactive table.\"\n",
              "            style=\"display:none;\">\n",
              "\n",
              "  <svg xmlns=\"http://www.w3.org/2000/svg\" height=\"24px\" viewBox=\"0 -960 960 960\">\n",
              "    <path d=\"M120-120v-720h720v720H120Zm60-500h600v-160H180v160Zm220 220h160v-160H400v160Zm0 220h160v-160H400v160ZM180-400h160v-160H180v160Zm440 0h160v-160H620v160ZM180-180h160v-160H180v160Zm440 0h160v-160H620v160Z\"/>\n",
              "  </svg>\n",
              "    </button>\n",
              "\n",
              "  <style>\n",
              "    .colab-df-container {\n",
              "      display:flex;\n",
              "      gap: 12px;\n",
              "    }\n",
              "\n",
              "    .colab-df-convert {\n",
              "      background-color: #E8F0FE;\n",
              "      border: none;\n",
              "      border-radius: 50%;\n",
              "      cursor: pointer;\n",
              "      display: none;\n",
              "      fill: #1967D2;\n",
              "      height: 32px;\n",
              "      padding: 0 0 0 0;\n",
              "      width: 32px;\n",
              "    }\n",
              "\n",
              "    .colab-df-convert:hover {\n",
              "      background-color: #E2EBFA;\n",
              "      box-shadow: 0px 1px 2px rgba(60, 64, 67, 0.3), 0px 1px 3px 1px rgba(60, 64, 67, 0.15);\n",
              "      fill: #174EA6;\n",
              "    }\n",
              "\n",
              "    .colab-df-buttons div {\n",
              "      margin-bottom: 4px;\n",
              "    }\n",
              "\n",
              "    [theme=dark] .colab-df-convert {\n",
              "      background-color: #3B4455;\n",
              "      fill: #D2E3FC;\n",
              "    }\n",
              "\n",
              "    [theme=dark] .colab-df-convert:hover {\n",
              "      background-color: #434B5C;\n",
              "      box-shadow: 0px 1px 3px 1px rgba(0, 0, 0, 0.15);\n",
              "      filter: drop-shadow(0px 1px 2px rgba(0, 0, 0, 0.3));\n",
              "      fill: #FFFFFF;\n",
              "    }\n",
              "  </style>\n",
              "\n",
              "    <script>\n",
              "      const buttonEl =\n",
              "        document.querySelector('#df-665aa0bc-3b58-431b-b801-d8de2a38d36d button.colab-df-convert');\n",
              "      buttonEl.style.display =\n",
              "        google.colab.kernel.accessAllowed ? 'block' : 'none';\n",
              "\n",
              "      async function convertToInteractive(key) {\n",
              "        const element = document.querySelector('#df-665aa0bc-3b58-431b-b801-d8de2a38d36d');\n",
              "        const dataTable =\n",
              "          await google.colab.kernel.invokeFunction('convertToInteractive',\n",
              "                                                    [key], {});\n",
              "        if (!dataTable) return;\n",
              "\n",
              "        const docLinkHtml = 'Like what you see? Visit the ' +\n",
              "          '<a target=\"_blank\" href=https://colab.research.google.com/notebooks/data_table.ipynb>data table notebook</a>'\n",
              "          + ' to learn more about interactive tables.';\n",
              "        element.innerHTML = '';\n",
              "        dataTable['output_type'] = 'display_data';\n",
              "        await google.colab.output.renderOutput(dataTable, element);\n",
              "        const docLink = document.createElement('div');\n",
              "        docLink.innerHTML = docLinkHtml;\n",
              "        element.appendChild(docLink);\n",
              "      }\n",
              "    </script>\n",
              "  </div>\n",
              "\n",
              "\n",
              "<div id=\"df-c44a0cd2-066d-441d-ad43-fd5fc26eff8f\">\n",
              "  <button class=\"colab-df-quickchart\" onclick=\"quickchart('df-c44a0cd2-066d-441d-ad43-fd5fc26eff8f')\"\n",
              "            title=\"Suggest charts\"\n",
              "            style=\"display:none;\">\n",
              "\n",
              "<svg xmlns=\"http://www.w3.org/2000/svg\" height=\"24px\"viewBox=\"0 0 24 24\"\n",
              "     width=\"24px\">\n",
              "    <g>\n",
              "        <path d=\"M19 3H5c-1.1 0-2 .9-2 2v14c0 1.1.9 2 2 2h14c1.1 0 2-.9 2-2V5c0-1.1-.9-2-2-2zM9 17H7v-7h2v7zm4 0h-2V7h2v10zm4 0h-2v-4h2v4z\"/>\n",
              "    </g>\n",
              "</svg>\n",
              "  </button>\n",
              "\n",
              "<style>\n",
              "  .colab-df-quickchart {\n",
              "      --bg-color: #E8F0FE;\n",
              "      --fill-color: #1967D2;\n",
              "      --hover-bg-color: #E2EBFA;\n",
              "      --hover-fill-color: #174EA6;\n",
              "      --disabled-fill-color: #AAA;\n",
              "      --disabled-bg-color: #DDD;\n",
              "  }\n",
              "\n",
              "  [theme=dark] .colab-df-quickchart {\n",
              "      --bg-color: #3B4455;\n",
              "      --fill-color: #D2E3FC;\n",
              "      --hover-bg-color: #434B5C;\n",
              "      --hover-fill-color: #FFFFFF;\n",
              "      --disabled-bg-color: #3B4455;\n",
              "      --disabled-fill-color: #666;\n",
              "  }\n",
              "\n",
              "  .colab-df-quickchart {\n",
              "    background-color: var(--bg-color);\n",
              "    border: none;\n",
              "    border-radius: 50%;\n",
              "    cursor: pointer;\n",
              "    display: none;\n",
              "    fill: var(--fill-color);\n",
              "    height: 32px;\n",
              "    padding: 0;\n",
              "    width: 32px;\n",
              "  }\n",
              "\n",
              "  .colab-df-quickchart:hover {\n",
              "    background-color: var(--hover-bg-color);\n",
              "    box-shadow: 0 1px 2px rgba(60, 64, 67, 0.3), 0 1px 3px 1px rgba(60, 64, 67, 0.15);\n",
              "    fill: var(--button-hover-fill-color);\n",
              "  }\n",
              "\n",
              "  .colab-df-quickchart-complete:disabled,\n",
              "  .colab-df-quickchart-complete:disabled:hover {\n",
              "    background-color: var(--disabled-bg-color);\n",
              "    fill: var(--disabled-fill-color);\n",
              "    box-shadow: none;\n",
              "  }\n",
              "\n",
              "  .colab-df-spinner {\n",
              "    border: 2px solid var(--fill-color);\n",
              "    border-color: transparent;\n",
              "    border-bottom-color: var(--fill-color);\n",
              "    animation:\n",
              "      spin 1s steps(1) infinite;\n",
              "  }\n",
              "\n",
              "  @keyframes spin {\n",
              "    0% {\n",
              "      border-color: transparent;\n",
              "      border-bottom-color: var(--fill-color);\n",
              "      border-left-color: var(--fill-color);\n",
              "    }\n",
              "    20% {\n",
              "      border-color: transparent;\n",
              "      border-left-color: var(--fill-color);\n",
              "      border-top-color: var(--fill-color);\n",
              "    }\n",
              "    30% {\n",
              "      border-color: transparent;\n",
              "      border-left-color: var(--fill-color);\n",
              "      border-top-color: var(--fill-color);\n",
              "      border-right-color: var(--fill-color);\n",
              "    }\n",
              "    40% {\n",
              "      border-color: transparent;\n",
              "      border-right-color: var(--fill-color);\n",
              "      border-top-color: var(--fill-color);\n",
              "    }\n",
              "    60% {\n",
              "      border-color: transparent;\n",
              "      border-right-color: var(--fill-color);\n",
              "    }\n",
              "    80% {\n",
              "      border-color: transparent;\n",
              "      border-right-color: var(--fill-color);\n",
              "      border-bottom-color: var(--fill-color);\n",
              "    }\n",
              "    90% {\n",
              "      border-color: transparent;\n",
              "      border-bottom-color: var(--fill-color);\n",
              "    }\n",
              "  }\n",
              "</style>\n",
              "\n",
              "  <script>\n",
              "    async function quickchart(key) {\n",
              "      const quickchartButtonEl =\n",
              "        document.querySelector('#' + key + ' button');\n",
              "      quickchartButtonEl.disabled = true;  // To prevent multiple clicks.\n",
              "      quickchartButtonEl.classList.add('colab-df-spinner');\n",
              "      try {\n",
              "        const charts = await google.colab.kernel.invokeFunction(\n",
              "            'suggestCharts', [key], {});\n",
              "      } catch (error) {\n",
              "        console.error('Error during call to suggestCharts:', error);\n",
              "      }\n",
              "      quickchartButtonEl.classList.remove('colab-df-spinner');\n",
              "      quickchartButtonEl.classList.add('colab-df-quickchart-complete');\n",
              "    }\n",
              "    (() => {\n",
              "      let quickchartButtonEl =\n",
              "        document.querySelector('#df-c44a0cd2-066d-441d-ad43-fd5fc26eff8f button');\n",
              "      quickchartButtonEl.style.display =\n",
              "        google.colab.kernel.accessAllowed ? 'block' : 'none';\n",
              "    })();\n",
              "  </script>\n",
              "</div>\n",
              "    </div>\n",
              "  </div>\n"
            ]
          },
          "metadata": {},
          "execution_count": 5
        }
      ],
      "source": [
        "df.sample(5)"
      ]
    },
    {
      "cell_type": "code",
      "execution_count": null,
      "metadata": {
        "colab": {
          "base_uri": "https://localhost:8080/"
        },
        "id": "7HxPqGbf9FGc",
        "outputId": "666bfad5-bb46-473b-a4d9-c1eff5473424"
      },
      "outputs": [
        {
          "output_type": "execute_result",
          "data": {
            "text/plain": [
              "Index(['Id', 'Income', 'Age', 'Experience', 'Married/Single',\n",
              "       'House_Ownership', 'Car_Ownership', 'Profession', 'CITY', 'STATE',\n",
              "       'CURRENT_JOB_YRS', 'CURRENT_HOUSE_YRS', 'Risk_Flag'],\n",
              "      dtype='object')"
            ]
          },
          "metadata": {},
          "execution_count": 6
        }
      ],
      "source": [
        "df.columns"
      ]
    },
    {
      "cell_type": "code",
      "execution_count": null,
      "metadata": {
        "colab": {
          "base_uri": "https://localhost:8080/"
        },
        "id": "IB9Cy4iS9FIw",
        "outputId": "5a6f97b3-5f82-4c62-afb5-bf9d2b39b602"
      },
      "outputs": [
        {
          "output_type": "execute_result",
          "data": {
            "text/plain": [
              "Id                    int64\n",
              "Income                int64\n",
              "Age                   int64\n",
              "Experience            int64\n",
              "Married/Single       object\n",
              "House_Ownership      object\n",
              "Car_Ownership        object\n",
              "Profession           object\n",
              "CITY                 object\n",
              "STATE                object\n",
              "CURRENT_JOB_YRS       int64\n",
              "CURRENT_HOUSE_YRS     int64\n",
              "Risk_Flag             int64\n",
              "dtype: object"
            ]
          },
          "metadata": {},
          "execution_count": 7
        }
      ],
      "source": [
        "df.dtypes"
      ]
    },
    {
      "cell_type": "code",
      "execution_count": null,
      "metadata": {
        "colab": {
          "base_uri": "https://localhost:8080/"
        },
        "id": "-NBGf2Vz9FLV",
        "outputId": "2bf050b8-84f5-4346-dff0-fd4ac7d7d698"
      },
      "outputs": [
        {
          "output_type": "stream",
          "name": "stdout",
          "text": [
            "<class 'pandas.core.frame.DataFrame'>\n",
            "RangeIndex: 252000 entries, 0 to 251999\n",
            "Data columns (total 13 columns):\n",
            " #   Column             Non-Null Count   Dtype \n",
            "---  ------             --------------   ----- \n",
            " 0   Id                 252000 non-null  int64 \n",
            " 1   Income             252000 non-null  int64 \n",
            " 2   Age                252000 non-null  int64 \n",
            " 3   Experience         252000 non-null  int64 \n",
            " 4   Married/Single     252000 non-null  object\n",
            " 5   House_Ownership    252000 non-null  object\n",
            " 6   Car_Ownership      252000 non-null  object\n",
            " 7   Profession         252000 non-null  object\n",
            " 8   CITY               252000 non-null  object\n",
            " 9   STATE              252000 non-null  object\n",
            " 10  CURRENT_JOB_YRS    252000 non-null  int64 \n",
            " 11  CURRENT_HOUSE_YRS  252000 non-null  int64 \n",
            " 12  Risk_Flag          252000 non-null  int64 \n",
            "dtypes: int64(7), object(6)\n",
            "memory usage: 25.0+ MB\n"
          ]
        }
      ],
      "source": [
        "df.info()"
      ]
    },
    {
      "cell_type": "code",
      "execution_count": null,
      "metadata": {
        "colab": {
          "base_uri": "https://localhost:8080/",
          "height": 300
        },
        "id": "19OjfRCc9FN7",
        "outputId": "6751f127-34cf-4161-f0f4-18417b73ee8d"
      },
      "outputs": [
        {
          "output_type": "execute_result",
          "data": {
            "text/plain": [
              "                  Id        Income            Age     Experience  \\\n",
              "count  252000.000000  2.520000e+05  252000.000000  252000.000000   \n",
              "mean   126000.500000  4.997117e+06      49.954071      10.084437   \n",
              "std     72746.278255  2.878311e+06      17.063855       6.002590   \n",
              "min         1.000000  1.031000e+04      21.000000       0.000000   \n",
              "25%     63000.750000  2.503015e+06      35.000000       5.000000   \n",
              "50%    126000.500000  5.000694e+06      50.000000      10.000000   \n",
              "75%    189000.250000  7.477502e+06      65.000000      15.000000   \n",
              "max    252000.000000  9.999938e+06      79.000000      20.000000   \n",
              "\n",
              "       CURRENT_JOB_YRS  CURRENT_HOUSE_YRS      Risk_Flag  \n",
              "count    252000.000000      252000.000000  252000.000000  \n",
              "mean          6.333877          11.997794       0.123000  \n",
              "std           3.647053           1.399037       0.328438  \n",
              "min           0.000000          10.000000       0.000000  \n",
              "25%           3.000000          11.000000       0.000000  \n",
              "50%           6.000000          12.000000       0.000000  \n",
              "75%           9.000000          13.000000       0.000000  \n",
              "max          14.000000          14.000000       1.000000  "
            ],
            "text/html": [
              "\n",
              "  <div id=\"df-596d3115-5aa4-4ccd-bb3f-f050307e950f\" class=\"colab-df-container\">\n",
              "    <div>\n",
              "<style scoped>\n",
              "    .dataframe tbody tr th:only-of-type {\n",
              "        vertical-align: middle;\n",
              "    }\n",
              "\n",
              "    .dataframe tbody tr th {\n",
              "        vertical-align: top;\n",
              "    }\n",
              "\n",
              "    .dataframe thead th {\n",
              "        text-align: right;\n",
              "    }\n",
              "</style>\n",
              "<table border=\"1\" class=\"dataframe\">\n",
              "  <thead>\n",
              "    <tr style=\"text-align: right;\">\n",
              "      <th></th>\n",
              "      <th>Id</th>\n",
              "      <th>Income</th>\n",
              "      <th>Age</th>\n",
              "      <th>Experience</th>\n",
              "      <th>CURRENT_JOB_YRS</th>\n",
              "      <th>CURRENT_HOUSE_YRS</th>\n",
              "      <th>Risk_Flag</th>\n",
              "    </tr>\n",
              "  </thead>\n",
              "  <tbody>\n",
              "    <tr>\n",
              "      <th>count</th>\n",
              "      <td>252000.000000</td>\n",
              "      <td>2.520000e+05</td>\n",
              "      <td>252000.000000</td>\n",
              "      <td>252000.000000</td>\n",
              "      <td>252000.000000</td>\n",
              "      <td>252000.000000</td>\n",
              "      <td>252000.000000</td>\n",
              "    </tr>\n",
              "    <tr>\n",
              "      <th>mean</th>\n",
              "      <td>126000.500000</td>\n",
              "      <td>4.997117e+06</td>\n",
              "      <td>49.954071</td>\n",
              "      <td>10.084437</td>\n",
              "      <td>6.333877</td>\n",
              "      <td>11.997794</td>\n",
              "      <td>0.123000</td>\n",
              "    </tr>\n",
              "    <tr>\n",
              "      <th>std</th>\n",
              "      <td>72746.278255</td>\n",
              "      <td>2.878311e+06</td>\n",
              "      <td>17.063855</td>\n",
              "      <td>6.002590</td>\n",
              "      <td>3.647053</td>\n",
              "      <td>1.399037</td>\n",
              "      <td>0.328438</td>\n",
              "    </tr>\n",
              "    <tr>\n",
              "      <th>min</th>\n",
              "      <td>1.000000</td>\n",
              "      <td>1.031000e+04</td>\n",
              "      <td>21.000000</td>\n",
              "      <td>0.000000</td>\n",
              "      <td>0.000000</td>\n",
              "      <td>10.000000</td>\n",
              "      <td>0.000000</td>\n",
              "    </tr>\n",
              "    <tr>\n",
              "      <th>25%</th>\n",
              "      <td>63000.750000</td>\n",
              "      <td>2.503015e+06</td>\n",
              "      <td>35.000000</td>\n",
              "      <td>5.000000</td>\n",
              "      <td>3.000000</td>\n",
              "      <td>11.000000</td>\n",
              "      <td>0.000000</td>\n",
              "    </tr>\n",
              "    <tr>\n",
              "      <th>50%</th>\n",
              "      <td>126000.500000</td>\n",
              "      <td>5.000694e+06</td>\n",
              "      <td>50.000000</td>\n",
              "      <td>10.000000</td>\n",
              "      <td>6.000000</td>\n",
              "      <td>12.000000</td>\n",
              "      <td>0.000000</td>\n",
              "    </tr>\n",
              "    <tr>\n",
              "      <th>75%</th>\n",
              "      <td>189000.250000</td>\n",
              "      <td>7.477502e+06</td>\n",
              "      <td>65.000000</td>\n",
              "      <td>15.000000</td>\n",
              "      <td>9.000000</td>\n",
              "      <td>13.000000</td>\n",
              "      <td>0.000000</td>\n",
              "    </tr>\n",
              "    <tr>\n",
              "      <th>max</th>\n",
              "      <td>252000.000000</td>\n",
              "      <td>9.999938e+06</td>\n",
              "      <td>79.000000</td>\n",
              "      <td>20.000000</td>\n",
              "      <td>14.000000</td>\n",
              "      <td>14.000000</td>\n",
              "      <td>1.000000</td>\n",
              "    </tr>\n",
              "  </tbody>\n",
              "</table>\n",
              "</div>\n",
              "    <div class=\"colab-df-buttons\">\n",
              "\n",
              "  <div class=\"colab-df-container\">\n",
              "    <button class=\"colab-df-convert\" onclick=\"convertToInteractive('df-596d3115-5aa4-4ccd-bb3f-f050307e950f')\"\n",
              "            title=\"Convert this dataframe to an interactive table.\"\n",
              "            style=\"display:none;\">\n",
              "\n",
              "  <svg xmlns=\"http://www.w3.org/2000/svg\" height=\"24px\" viewBox=\"0 -960 960 960\">\n",
              "    <path d=\"M120-120v-720h720v720H120Zm60-500h600v-160H180v160Zm220 220h160v-160H400v160Zm0 220h160v-160H400v160ZM180-400h160v-160H180v160Zm440 0h160v-160H620v160ZM180-180h160v-160H180v160Zm440 0h160v-160H620v160Z\"/>\n",
              "  </svg>\n",
              "    </button>\n",
              "\n",
              "  <style>\n",
              "    .colab-df-container {\n",
              "      display:flex;\n",
              "      gap: 12px;\n",
              "    }\n",
              "\n",
              "    .colab-df-convert {\n",
              "      background-color: #E8F0FE;\n",
              "      border: none;\n",
              "      border-radius: 50%;\n",
              "      cursor: pointer;\n",
              "      display: none;\n",
              "      fill: #1967D2;\n",
              "      height: 32px;\n",
              "      padding: 0 0 0 0;\n",
              "      width: 32px;\n",
              "    }\n",
              "\n",
              "    .colab-df-convert:hover {\n",
              "      background-color: #E2EBFA;\n",
              "      box-shadow: 0px 1px 2px rgba(60, 64, 67, 0.3), 0px 1px 3px 1px rgba(60, 64, 67, 0.15);\n",
              "      fill: #174EA6;\n",
              "    }\n",
              "\n",
              "    .colab-df-buttons div {\n",
              "      margin-bottom: 4px;\n",
              "    }\n",
              "\n",
              "    [theme=dark] .colab-df-convert {\n",
              "      background-color: #3B4455;\n",
              "      fill: #D2E3FC;\n",
              "    }\n",
              "\n",
              "    [theme=dark] .colab-df-convert:hover {\n",
              "      background-color: #434B5C;\n",
              "      box-shadow: 0px 1px 3px 1px rgba(0, 0, 0, 0.15);\n",
              "      filter: drop-shadow(0px 1px 2px rgba(0, 0, 0, 0.3));\n",
              "      fill: #FFFFFF;\n",
              "    }\n",
              "  </style>\n",
              "\n",
              "    <script>\n",
              "      const buttonEl =\n",
              "        document.querySelector('#df-596d3115-5aa4-4ccd-bb3f-f050307e950f button.colab-df-convert');\n",
              "      buttonEl.style.display =\n",
              "        google.colab.kernel.accessAllowed ? 'block' : 'none';\n",
              "\n",
              "      async function convertToInteractive(key) {\n",
              "        const element = document.querySelector('#df-596d3115-5aa4-4ccd-bb3f-f050307e950f');\n",
              "        const dataTable =\n",
              "          await google.colab.kernel.invokeFunction('convertToInteractive',\n",
              "                                                    [key], {});\n",
              "        if (!dataTable) return;\n",
              "\n",
              "        const docLinkHtml = 'Like what you see? Visit the ' +\n",
              "          '<a target=\"_blank\" href=https://colab.research.google.com/notebooks/data_table.ipynb>data table notebook</a>'\n",
              "          + ' to learn more about interactive tables.';\n",
              "        element.innerHTML = '';\n",
              "        dataTable['output_type'] = 'display_data';\n",
              "        await google.colab.output.renderOutput(dataTable, element);\n",
              "        const docLink = document.createElement('div');\n",
              "        docLink.innerHTML = docLinkHtml;\n",
              "        element.appendChild(docLink);\n",
              "      }\n",
              "    </script>\n",
              "  </div>\n",
              "\n",
              "\n",
              "<div id=\"df-cb02d1b5-e7ef-4465-85da-5f7371c79238\">\n",
              "  <button class=\"colab-df-quickchart\" onclick=\"quickchart('df-cb02d1b5-e7ef-4465-85da-5f7371c79238')\"\n",
              "            title=\"Suggest charts\"\n",
              "            style=\"display:none;\">\n",
              "\n",
              "<svg xmlns=\"http://www.w3.org/2000/svg\" height=\"24px\"viewBox=\"0 0 24 24\"\n",
              "     width=\"24px\">\n",
              "    <g>\n",
              "        <path d=\"M19 3H5c-1.1 0-2 .9-2 2v14c0 1.1.9 2 2 2h14c1.1 0 2-.9 2-2V5c0-1.1-.9-2-2-2zM9 17H7v-7h2v7zm4 0h-2V7h2v10zm4 0h-2v-4h2v4z\"/>\n",
              "    </g>\n",
              "</svg>\n",
              "  </button>\n",
              "\n",
              "<style>\n",
              "  .colab-df-quickchart {\n",
              "      --bg-color: #E8F0FE;\n",
              "      --fill-color: #1967D2;\n",
              "      --hover-bg-color: #E2EBFA;\n",
              "      --hover-fill-color: #174EA6;\n",
              "      --disabled-fill-color: #AAA;\n",
              "      --disabled-bg-color: #DDD;\n",
              "  }\n",
              "\n",
              "  [theme=dark] .colab-df-quickchart {\n",
              "      --bg-color: #3B4455;\n",
              "      --fill-color: #D2E3FC;\n",
              "      --hover-bg-color: #434B5C;\n",
              "      --hover-fill-color: #FFFFFF;\n",
              "      --disabled-bg-color: #3B4455;\n",
              "      --disabled-fill-color: #666;\n",
              "  }\n",
              "\n",
              "  .colab-df-quickchart {\n",
              "    background-color: var(--bg-color);\n",
              "    border: none;\n",
              "    border-radius: 50%;\n",
              "    cursor: pointer;\n",
              "    display: none;\n",
              "    fill: var(--fill-color);\n",
              "    height: 32px;\n",
              "    padding: 0;\n",
              "    width: 32px;\n",
              "  }\n",
              "\n",
              "  .colab-df-quickchart:hover {\n",
              "    background-color: var(--hover-bg-color);\n",
              "    box-shadow: 0 1px 2px rgba(60, 64, 67, 0.3), 0 1px 3px 1px rgba(60, 64, 67, 0.15);\n",
              "    fill: var(--button-hover-fill-color);\n",
              "  }\n",
              "\n",
              "  .colab-df-quickchart-complete:disabled,\n",
              "  .colab-df-quickchart-complete:disabled:hover {\n",
              "    background-color: var(--disabled-bg-color);\n",
              "    fill: var(--disabled-fill-color);\n",
              "    box-shadow: none;\n",
              "  }\n",
              "\n",
              "  .colab-df-spinner {\n",
              "    border: 2px solid var(--fill-color);\n",
              "    border-color: transparent;\n",
              "    border-bottom-color: var(--fill-color);\n",
              "    animation:\n",
              "      spin 1s steps(1) infinite;\n",
              "  }\n",
              "\n",
              "  @keyframes spin {\n",
              "    0% {\n",
              "      border-color: transparent;\n",
              "      border-bottom-color: var(--fill-color);\n",
              "      border-left-color: var(--fill-color);\n",
              "    }\n",
              "    20% {\n",
              "      border-color: transparent;\n",
              "      border-left-color: var(--fill-color);\n",
              "      border-top-color: var(--fill-color);\n",
              "    }\n",
              "    30% {\n",
              "      border-color: transparent;\n",
              "      border-left-color: var(--fill-color);\n",
              "      border-top-color: var(--fill-color);\n",
              "      border-right-color: var(--fill-color);\n",
              "    }\n",
              "    40% {\n",
              "      border-color: transparent;\n",
              "      border-right-color: var(--fill-color);\n",
              "      border-top-color: var(--fill-color);\n",
              "    }\n",
              "    60% {\n",
              "      border-color: transparent;\n",
              "      border-right-color: var(--fill-color);\n",
              "    }\n",
              "    80% {\n",
              "      border-color: transparent;\n",
              "      border-right-color: var(--fill-color);\n",
              "      border-bottom-color: var(--fill-color);\n",
              "    }\n",
              "    90% {\n",
              "      border-color: transparent;\n",
              "      border-bottom-color: var(--fill-color);\n",
              "    }\n",
              "  }\n",
              "</style>\n",
              "\n",
              "  <script>\n",
              "    async function quickchart(key) {\n",
              "      const quickchartButtonEl =\n",
              "        document.querySelector('#' + key + ' button');\n",
              "      quickchartButtonEl.disabled = true;  // To prevent multiple clicks.\n",
              "      quickchartButtonEl.classList.add('colab-df-spinner');\n",
              "      try {\n",
              "        const charts = await google.colab.kernel.invokeFunction(\n",
              "            'suggestCharts', [key], {});\n",
              "      } catch (error) {\n",
              "        console.error('Error during call to suggestCharts:', error);\n",
              "      }\n",
              "      quickchartButtonEl.classList.remove('colab-df-spinner');\n",
              "      quickchartButtonEl.classList.add('colab-df-quickchart-complete');\n",
              "    }\n",
              "    (() => {\n",
              "      let quickchartButtonEl =\n",
              "        document.querySelector('#df-cb02d1b5-e7ef-4465-85da-5f7371c79238 button');\n",
              "      quickchartButtonEl.style.display =\n",
              "        google.colab.kernel.accessAllowed ? 'block' : 'none';\n",
              "    })();\n",
              "  </script>\n",
              "</div>\n",
              "    </div>\n",
              "  </div>\n"
            ]
          },
          "metadata": {},
          "execution_count": 9
        }
      ],
      "source": [
        "df.describe()"
      ]
    },
    {
      "cell_type": "code",
      "execution_count": null,
      "metadata": {
        "colab": {
          "base_uri": "https://localhost:8080/"
        },
        "id": "F13YBHqr9FQz",
        "outputId": "19e6e1a4-f647-4d7c-9a00-f1a2fc6cc74e"
      },
      "outputs": [
        {
          "output_type": "execute_result",
          "data": {
            "text/plain": [
              "Id                   0\n",
              "Income               0\n",
              "Age                  0\n",
              "Experience           0\n",
              "Married/Single       0\n",
              "House_Ownership      0\n",
              "Car_Ownership        0\n",
              "Profession           0\n",
              "CITY                 0\n",
              "STATE                0\n",
              "CURRENT_JOB_YRS      0\n",
              "CURRENT_HOUSE_YRS    0\n",
              "Risk_Flag            0\n",
              "dtype: int64"
            ]
          },
          "metadata": {},
          "execution_count": 10
        }
      ],
      "source": [
        "df.isnull().sum()"
      ]
    },
    {
      "cell_type": "code",
      "execution_count": null,
      "metadata": {
        "colab": {
          "base_uri": "https://localhost:8080/"
        },
        "id": "5CIgJEtn9FTO",
        "outputId": "8cc0e8b0-172a-454a-edb1-b95ab2689ab6"
      },
      "outputs": [
        {
          "output_type": "stream",
          "name": "stdout",
          "text": [
            "0\n"
          ]
        }
      ],
      "source": [
        "# duplicate rows\n",
        "print(df.duplicated().sum())\n",
        "\n",
        "#drop duplicates\n",
        "df.drop_duplicates(inplace=True)"
      ]
    },
    {
      "cell_type": "code",
      "execution_count": null,
      "metadata": {
        "colab": {
          "base_uri": "https://localhost:8080/"
        },
        "id": "Fl-4e2Kg9FVx",
        "outputId": "07a94f2e-485b-4854-b79b-f2ecd198cc9b"
      },
      "outputs": [
        {
          "output_type": "stream",
          "name": "stdout",
          "text": [
            "0\n"
          ]
        }
      ],
      "source": [
        "# Check if the duplicate rows are removed\n",
        "print(df.duplicated().sum())"
      ]
    },
    {
      "cell_type": "code",
      "execution_count": null,
      "metadata": {
        "colab": {
          "base_uri": "https://localhost:8080/"
        },
        "id": "xzwnJAMl9FYd",
        "outputId": "cc6b466a-6187-428e-bc02-512f9ad19c3d"
      },
      "outputs": [
        {
          "output_type": "execute_result",
          "data": {
            "text/plain": [
              "single     226272\n",
              "married     25728\n",
              "Name: Married/Single, dtype: int64"
            ]
          },
          "metadata": {},
          "execution_count": 13
        }
      ],
      "source": [
        "df['Married/Single'].value_counts()"
      ]
    },
    {
      "cell_type": "code",
      "execution_count": null,
      "metadata": {
        "colab": {
          "base_uri": "https://localhost:8080/"
        },
        "id": "Z72B_FYm9FbN",
        "outputId": "c145720c-5eb4-48cb-f186-883787862bd0"
      },
      "outputs": [
        {
          "output_type": "execute_result",
          "data": {
            "text/plain": [
              "rented          231898\n",
              "owned            12918\n",
              "norent_noown      7184\n",
              "Name: House_Ownership, dtype: int64"
            ]
          },
          "metadata": {},
          "execution_count": 14
        }
      ],
      "source": [
        "df['House_Ownership'].value_counts()"
      ]
    },
    {
      "cell_type": "code",
      "execution_count": null,
      "metadata": {
        "colab": {
          "base_uri": "https://localhost:8080/"
        },
        "id": "MLyhBOMx9FeM",
        "outputId": "72aa2295-07f3-4e42-9ae7-ac539c66f817"
      },
      "outputs": [
        {
          "output_type": "execute_result",
          "data": {
            "text/plain": [
              "no     176000\n",
              "yes     76000\n",
              "Name: Car_Ownership, dtype: int64"
            ]
          },
          "metadata": {},
          "execution_count": 15
        }
      ],
      "source": [
        "df['Car_Ownership'].value_counts()"
      ]
    },
    {
      "cell_type": "code",
      "execution_count": null,
      "metadata": {
        "colab": {
          "base_uri": "https://localhost:8080/"
        },
        "id": "qx4HtOtl9Fg2",
        "outputId": "84a6d9d7-2c00-4cd1-e7d9-c238d6938319"
      },
      "outputs": [
        {
          "output_type": "stream",
          "name": "stdout",
          "text": [
            "51\n",
            "['Mechanical_engineer' 'Software_Developer' 'Technical_writer'\n",
            " 'Civil_servant' 'Librarian' 'Economist' 'Flight_attendant' 'Architect'\n",
            " 'Designer' 'Physician' 'Financial_Analyst' 'Air_traffic_controller'\n",
            " 'Politician' 'Police_officer' 'Artist' 'Surveyor' 'Design_Engineer'\n",
            " 'Chemical_engineer' 'Hotel_Manager' 'Dentist' 'Comedian'\n",
            " 'Biomedical_Engineer' 'Graphic_Designer' 'Computer_hardware_engineer'\n",
            " 'Petroleum_Engineer' 'Secretary' 'Computer_operator'\n",
            " 'Chartered_Accountant' 'Technician' 'Microbiologist' 'Fashion_Designer'\n",
            " 'Aviator' 'Psychologist' 'Magistrate' 'Lawyer' 'Firefighter' 'Engineer'\n",
            " 'Official' 'Analyst' 'Geologist' 'Drafter' 'Statistician' 'Web_designer'\n",
            " 'Consultant' 'Chef' 'Army_officer' 'Surgeon' 'Scientist' 'Civil_engineer'\n",
            " 'Industrial_Engineer' 'Technology_specialist']\n"
          ]
        }
      ],
      "source": [
        "print(df['Profession'].nunique())\n",
        "print(df['Profession'].unique())"
      ]
    },
    {
      "cell_type": "code",
      "execution_count": null,
      "metadata": {
        "colab": {
          "base_uri": "https://localhost:8080/"
        },
        "id": "GgAUZ7RY9Fjk",
        "outputId": "0e9fbfd4-338e-4aa1-e53d-940a22771520"
      },
      "outputs": [
        {
          "output_type": "execute_result",
          "data": {
            "text/plain": [
              "317"
            ]
          },
          "metadata": {},
          "execution_count": 17
        }
      ],
      "source": [
        "df['CITY'].nunique()"
      ]
    },
    {
      "cell_type": "code",
      "execution_count": null,
      "metadata": {
        "colab": {
          "base_uri": "https://localhost:8080/"
        },
        "id": "3DOXAH1n9Fmm",
        "outputId": "16d3f7b9-aa9e-474c-c55c-a4a76d517312"
      },
      "outputs": [
        {
          "output_type": "execute_result",
          "data": {
            "text/plain": [
              "Vijayanagaram       1259\n",
              "Bhopal              1208\n",
              "Bulandshahr         1185\n",
              "Saharsa[29]         1180\n",
              "Vijayawada          1172\n",
              "                    ... \n",
              "Ujjain               486\n",
              "Warangal[11][12]     459\n",
              "Bettiah[33]          457\n",
              "Katni                448\n",
              "Karaikudi            431\n",
              "Name: CITY, Length: 317, dtype: int64"
            ]
          },
          "metadata": {},
          "execution_count": 18
        }
      ],
      "source": [
        "df['CITY'].value_counts()"
      ]
    },
    {
      "cell_type": "code",
      "execution_count": null,
      "metadata": {
        "colab": {
          "base_uri": "https://localhost:8080/"
        },
        "id": "exUD-EFR9Fpf",
        "outputId": "5bdc8b04-58c3-4646-ec55-09054a0e5f1d"
      },
      "outputs": [
        {
          "output_type": "execute_result",
          "data": {
            "text/plain": [
              "array(['Madhya_Pradesh', 'Maharashtra', 'Kerala', 'Odisha', 'Tamil_Nadu',\n",
              "       'Gujarat', 'Rajasthan', 'Telangana', 'Bihar', 'Andhra_Pradesh',\n",
              "       'West_Bengal', 'Haryana', 'Puducherry', 'Karnataka',\n",
              "       'Uttar_Pradesh', 'Himachal_Pradesh', 'Punjab', 'Tripura',\n",
              "       'Uttarakhand', 'Jharkhand', 'Mizoram', 'Assam',\n",
              "       'Jammu_and_Kashmir', 'Delhi', 'Chhattisgarh', 'Chandigarh',\n",
              "       'Uttar_Pradesh[5]', 'Manipur', 'Sikkim'], dtype=object)"
            ]
          },
          "metadata": {},
          "execution_count": 19
        }
      ],
      "source": [
        "df['STATE'].nunique()\n",
        "df['STATE'].unique()"
      ]
    },
    {
      "cell_type": "code",
      "execution_count": null,
      "metadata": {
        "colab": {
          "base_uri": "https://localhost:8080/",
          "height": 1000
        },
        "id": "NOtU7Q9D9FsB",
        "outputId": "15806328-1b82-4ff3-a603-3c3205ef7294"
      },
      "outputs": [
        {
          "output_type": "display_data",
          "data": {
            "text/plain": [
              "<Figure size 2200x2000 with 9 Axes>"
            ],
            "image/png": "[encoded data removed]"
          },
          "metadata": {}
        }
      ],
      "source": [
        "\n",
        "df.hist( figsize = (22, 20) )\n",
        "plt.show()"
      ]
    },
    {
      "cell_type": "code",
      "execution_count": null,
      "metadata": {
        "colab": {
          "base_uri": "https://localhost:8080/",
          "height": 475
        },
        "id": "DMm3AzGy9Fu4",
        "outputId": "c371aa49-31e7-4f3a-b20c-e1027457014a"
      },
      "outputs": [
        {
          "output_type": "execute_result",
          "data": {
            "text/plain": [
              "<Axes: xlabel='Married/Single', ylabel='count'>"
            ]
          },
          "metadata": {},
          "execution_count": 21
        },
        {
          "output_type": "display_data",
          "data": {
            "text/plain": [
              "<Figure size 640x480 with 1 Axes>"
            ],
            "image/png": "[encoded data removed]"
          },
          "metadata": {}
        }
      ],
      "source": [
        "sns.countplot(data = df, x = 'Married/Single', hue = 'Risk_Flag')"
      ]
    },
    {
      "cell_type": "code",
      "execution_count": null,
      "metadata": {
        "colab": {
          "base_uri": "https://localhost:8080/",
          "height": 475
        },
        "id": "L087tAKq9Fxb",
        "outputId": "08583af2-8f74-4715-cae3-abecf907a612"
      },
      "outputs": [
        {
          "output_type": "execute_result",
          "data": {
            "text/plain": [
              "<Axes: xlabel='Risk_Flag', ylabel='count'>"
            ]
          },
          "metadata": {},
          "execution_count": 22
        },
        {
          "output_type": "display_data",
          "data": {
            "text/plain": [
              "<Figure size 640x480 with 1 Axes>"
            ],
            "image/png": "[encoded data removed]"
          },
          "metadata": {}
        }
      ],
      "source": [
        "sns.countplot(df, x = 'Risk_Flag')"
      ]
    },
    {
      "cell_type": "code",
      "execution_count": null,
      "metadata": {
        "colab": {
          "base_uri": "https://localhost:8080/",
          "height": 944
        },
        "id": "IEN6-_H39F0i",
        "outputId": "eaeee25d-cc57-4745-c103-dbe2f44d6bf2"
      },
      "outputs": [
        {
          "output_type": "execute_result",
          "data": {
            "text/plain": [
              "<Axes: xlabel='count', ylabel='Profession'>"
            ]
          },
          "metadata": {},
          "execution_count": 23
        },
        {
          "output_type": "display_data",
          "data": {
            "text/plain": [
              "<Figure size 1200x1200 with 1 Axes>"
            ],
            "image/png": "[encoded data removed]"
          },
          "metadata": {}
        }
      ],
      "source": [
        "plt.figure(figsize = (12,12))\n",
        "sns.countplot(data=df, y='Profession', order=df['Profession'].value_counts().index)"
      ]
    },
    {
      "cell_type": "code",
      "execution_count": null,
      "metadata": {
        "colab": {
          "base_uri": "https://localhost:8080/"
        },
        "id": "RdgT9F949F3M",
        "outputId": "9c673a30-e754-43f2-9550-0a9b10341bc8"
      },
      "outputs": [
        {
          "output_type": "stream",
          "name": "stdout",
          "text": [
            "['Rewa' 'Parbhani' 'Alappuzha' 'Bhubaneswar' 'Tiruchirappalli[10]'\n",
            " 'Jalgaon' 'Tiruppur' 'Jamnagar' 'Kota[6]' 'Karimnagar' 'Hajipur[31]'\n",
            " 'Adoni' 'Erode[17]' 'Kollam' 'Madurai' 'Anantapuram[24]' 'Kamarhati'\n",
            " 'Bhusawal' 'Sirsa' 'Amaravati' 'Secunderabad' 'Ahmedabad' 'Ajmer'\n",
            " 'Ongole' 'Miryalaguda' 'Ambattur' 'Indore' 'Pondicherry' 'Shimoga'\n",
            " 'Chennai' 'Gulbarga' 'Khammam' 'Saharanpur' 'Gopalpur' 'Amravati' 'Udupi'\n",
            " 'Howrah' 'Aurangabad[39]' 'Hospet' 'Shimla' 'Khandwa' 'Bidhannagar'\n",
            " 'Bellary' 'Danapur' 'Purnia[26]' 'Bijapur' 'Patiala' 'Malda' 'Sagar'\n",
            " 'Durgapur' 'Junagadh' 'Singrauli' 'Agartala' 'Thanjavur' 'Hindupur'\n",
            " 'Naihati' 'North_Dumdum' 'Panchkula' 'Anantapur' 'Serampore' 'Bathinda'\n",
            " 'Nadiad' 'Kanpur' 'Haridwar' 'Berhampur' 'Jamshedpur' 'Hyderabad' 'Bidar'\n",
            " 'Kottayam' 'Solapur' 'Suryapet' 'Aizawl' 'Asansol' 'Deoghar' 'Eluru[25]'\n",
            " 'Ulhasnagar' 'Aligarh' 'South_Dumdum' 'Berhampore' 'Gandhinagar'\n",
            " 'Sonipat' 'Muzaffarpur' 'Raichur' 'Rajpur_Sonarpur' 'Ambarnath' 'Katihar'\n",
            " 'Kozhikode' 'Vellore' 'Malegaon' 'Kochi' 'Nagaon' 'Nagpur' 'Srinagar'\n",
            " 'Davanagere' 'Bhagalpur' 'Siwan[32]' 'Meerut' 'Dindigul' 'Bhatpara'\n",
            " 'Ghaziabad' 'Kulti' 'Chapra' 'Dibrugarh' 'Panihati' 'Bhiwandi' 'Morbi'\n",
            " 'Kalyan-Dombivli' 'Gorakhpur' 'Panvel' 'Siliguri' 'Bongaigaon' 'Patna'\n",
            " 'Ramgarh' 'Ozhukarai' 'Mirzapur' 'Akola' 'Satna' 'Motihari[34]' 'Jalna'\n",
            " 'Jalandhar' 'Unnao' 'Karnal' 'Cuttack' 'Proddatur' 'Ichalkaranji'\n",
            " 'Warangal[11][12]' 'Jhansi' 'Bulandshahr' 'Narasaraopet' 'Chinsurah'\n",
            " 'Jehanabad[38]' 'Dhanbad' 'Gudivada' 'Gandhidham' 'Raiganj'\n",
            " 'Kishanganj[35]' 'Varanasi' 'Belgaum' 'Tirupati[21][22]' 'Tumkur'\n",
            " 'Coimbatore' 'Kurnool[18]' 'Gurgaon' 'Muzaffarnagar' 'Aurangabad'\n",
            " 'Bhavnagar' 'Arrah' 'Munger' 'Tirunelveli' 'Mumbai' 'Mango' 'Nashik'\n",
            " 'Kadapa[23]' 'Amritsar' 'Khora,_Ghaziabad' 'Ambala' 'Agra' 'Ratlam'\n",
            " 'Surendranagar_Dudhrej' 'Delhi_city' 'Bhopal' 'Hapur' 'Rohtak' 'Durg'\n",
            " 'Korba' 'Bangalore' 'Shivpuri' 'Thrissur' 'Vijayanagaram' 'Farrukhabad'\n",
            " 'Nangloi_Jat' 'Madanapalle' 'Thoothukudi' 'Nagercoil' 'Gaya'\n",
            " 'Chandigarh_city' 'Jammu[16]' 'Kakinada' 'Dewas' 'Bhalswa_Jahangir_Pur'\n",
            " 'Baranagar' 'Firozabad' 'Phusro' 'Allahabad' 'Guna' 'Thane' 'Etawah'\n",
            " 'Vasai-Virar' 'Pallavaram' 'Morena' 'Ballia' 'Surat' 'Burhanpur'\n",
            " 'Phagwara' 'Mau' 'Mangalore' 'Alwar' 'Mahbubnagar' 'Maheshtala'\n",
            " 'Hazaribagh' 'Bihar_Sharif' 'Faridabad' 'Lucknow' 'Tenali' 'Barasat'\n",
            " 'Amroha' 'Giridih' 'Begusarai' 'Medininagar' 'Rajahmundry[19][20]'\n",
            " 'Saharsa[29]' 'New_Delhi' 'Bhilai' 'Moradabad' 'Machilipatnam'\n",
            " 'Mira-Bhayandar' 'Pali' 'Navi_Mumbai' 'Mehsana' 'Imphal' 'Kolkata'\n",
            " 'Sambalpur' 'Ujjain' 'Madhyamgram' 'Jabalpur' 'Jamalpur[36]' 'Ludhiana'\n",
            " 'Bareilly' 'Gangtok' 'Anand' 'Dehradun' 'Pune' 'Satara' 'Srikakulam'\n",
            " 'Raipur' 'Jodhpur' 'Darbhanga' 'Nizamabad' 'Nandyal' 'Dehri[30]' 'Jorhat'\n",
            " 'Ranchi' 'Kumbakonam' 'Guntakal' 'Haldia' 'Loni' 'Pimpri-Chinchwad'\n",
            " 'Rajkot' 'Nanded' 'Noida' 'Kirari_Suleman_Nagar' 'Jaunpur' 'Bilaspur'\n",
            " 'Sambhal' 'Dhule' 'Rourkela' 'Thiruvananthapuram' 'Dharmavaram'\n",
            " 'Nellore[14][15]' 'Visakhapatnam[4]' 'Karawal_Nagar' 'Jaipur' 'Avadi'\n",
            " 'Bhimavaram' 'Bardhaman' 'Silchar' 'Buxar[37]' 'Kavali' 'Tezpur'\n",
            " 'Ramagundam[27]' 'Yamunanagar' 'Sri_Ganganagar' 'Sasaram[30]' 'Sikar'\n",
            " 'Bally' 'Bhiwani' 'Rampur' 'Uluberia' 'Sangli-Miraj_&_Kupwad' 'Hosur'\n",
            " 'Bikaner' 'Shahjahanpur' 'Sultan_Pur_Majra' 'Vijayawada' 'Bharatpur'\n",
            " 'Tadepalligudem' 'Tinsukia' 'Salem' 'Mathura' 'Guntur[13]'\n",
            " 'Hubliâ€“Dharwad' 'Guwahati' 'Chittoor[28]' 'Tiruvottiyur' 'Vadodara'\n",
            " 'Ahmednagar' 'Fatehpur' 'Bhilwara' 'Kharagpur' 'Bettiah[33]' 'Bhind'\n",
            " 'Bokaro' 'Karaikudi' 'Raebareli' 'Pudukkottai' 'Udaipur'\n",
            " 'Mysore[7][8][9]' 'Panipat' 'Latur' 'Tadipatri' 'Bahraich' 'Orai'\n",
            " 'Raurkela_Industrial_Township' 'Gwalior' 'Katni' 'Chandrapur' 'Kolhapur']\n"
          ]
        }
      ],
      "source": [
        "print(df['CITY'].unique())"
      ]
    },
    {
      "cell_type": "code",
      "execution_count": null,
      "metadata": {
        "id": "Va8vH8lb9F5o"
      },
      "outputs": [],
      "source": [
        "df['CITY'].replace('Tiruchirappalli[10]', 'Tiruchirappalli', inplace = True)\n",
        "df['CITY'].replace('Kota[6]', 'Kota', inplace = True)\n",
        "df['CITY'].replace('Hajipur[31]', 'Hajipur', inplace = True)\n",
        "df['CITY'].replace('Erode[17]', 'Erode', inplace = True)\n",
        "df['CITY'].replace('Guntur[13]', 'Guntur', inplace = True)\n",
        "df['CITY'].replace('Mysore[7][8][9]', 'Mysore', inplace = True)\n",
        "df['CITY'].replace('Chittoor[28]', 'Chittoor', inplace = True)\n",
        "df['CITY'].replace('Bettiah[33]', 'Bettiah', inplace = True)\n",
        "df['CITY'].replace('Sasaram[30]', 'Sasaram', inplace = True)\n",
        "df['CITY'].replace('Ramagundam[27]', 'Ramagundam', inplace = True)\n",
        "df['CITY'].replace('Buxar[37]', 'Buxar', inplace = True)\n",
        "df['CITY'].replace('Visakhapatnam[4]', 'Visakhapatnam', inplace = True)\n",
        "df['CITY'].replace('Nellore[14][15]', 'Nellore', inplace = True)\n",
        "df['CITY'].replace('Dehri[30]', 'Dehri', inplace = True)\n",
        "df['CITY'].replace('Jamalpur[36]', 'Jamalpur', inplace = True)\n",
        "df['CITY'].replace('Saharsa[29]', 'Saharsa', inplace = True)\n",
        "df['CITY'].replace('Rajahmundry[19][20]', 'Rajahmundry', inplace = True)\n",
        "df['CITY'].replace('Jammu[16]', 'Jammu', inplace = True)\n",
        "df['CITY'].replace('Kadapa[23]', 'Kadapa', inplace = True)\n",
        "df['CITY'].replace('Kurnool[18]', 'Kurnool', inplace = True)\n",
        "df['CITY'].replace('Tirupati[21][22]', 'Tirupati', inplace = True)\n",
        "df['CITY'].replace('Jehanabad[38]', 'Jehanabad', inplace = True)\n",
        "df['CITY'].replace('Warangal[11][12]', 'Warangal', inplace = True)\n",
        "df['CITY'].replace('Motihari[34]', 'Motihari', inplace = True)\n",
        "df['CITY'].replace('Siwan[32]', 'Siwan', inplace = True)\n",
        "df['CITY'].replace('Eluru[25]', 'Eluru', inplace = True)\n",
        "df['CITY'].replace('Purnia[26]', 'Purnia', inplace = True)\n",
        "df['CITY'].replace('Aurangabad[39]', 'Aurangabad', inplace = True)\n",
        "df['CITY'].replace('Anantapuram[24]', 'Anantapuram', inplace = True)"
      ]
    },
    {
      "cell_type": "code",
      "execution_count": null,
      "metadata": {
        "colab": {
          "base_uri": "https://localhost:8080/"
        },
        "id": "21ftYGDy9F_e",
        "outputId": "9dbe7fc0-857d-4a73-ece0-6a47fd8cd732"
      },
      "outputs": [
        {
          "output_type": "stream",
          "name": "stdout",
          "text": [
            "0         Madhya_Pradesh\n",
            "1            Maharashtra\n",
            "2                 Kerala\n",
            "3                 Odisha\n",
            "4             Tamil_Nadu\n",
            "               ...      \n",
            "251995       West_Bengal\n",
            "251996    Madhya_Pradesh\n",
            "251997       Maharashtra\n",
            "251998        Puducherry\n",
            "251999        Tamil_Nadu\n",
            "Name: STATE, Length: 252000, dtype: object\n"
          ]
        }
      ],
      "source": [
        "print(df['STATE'])"
      ]
    },
    {
      "cell_type": "code",
      "execution_count": null,
      "metadata": {
        "id": "o9tPnUFp9GCX"
      },
      "outputs": [],
      "source": [
        "df.drop('Id', axis=1, inplace=True)"
      ]
    },
    {
      "cell_type": "code",
      "execution_count": null,
      "metadata": {
        "id": "3ZyXsQWr9GFc"
      },
      "outputs": [],
      "source": [
        "label_encoder = LabelEncoder()\n",
        "cat_col = df.select_dtypes(include=['object'])\n",
        "for i in cat_col:\n",
        "  df[i] = label_encoder.fit_transform(df[i])"
      ]
    },
    {
      "cell_type": "code",
      "execution_count": null,
      "metadata": {
        "colab": {
          "base_uri": "https://localhost:8080/",
          "height": 226
        },
        "id": "DKkbc3hy9GH2",
        "outputId": "099a40cd-adb3-43a5-9db9-3600c0bb49ed"
      },
      "outputs": [
        {
          "output_type": "execute_result",
          "data": {
            "text/plain": [
              "    Income  Age  Experience  Married/Single  House_Ownership  Car_Ownership  \\\n",
              "0  1303834   23           3               1                2              0   \n",
              "1  7574516   40          10               1                2              0   \n",
              "2  3991815   66           4               0                2              0   \n",
              "3  6256451   41           2               1                2              1   \n",
              "4  5768871   47          11               1                2              0   \n",
              "\n",
              "   Profession  CITY  STATE  CURRENT_JOB_YRS  CURRENT_HOUSE_YRS  Risk_Flag  \n",
              "0          33   250     13                3                 13          0  \n",
              "1          43   226     14                9                 13          0  \n",
              "2          47     8     12                4                 10          0  \n",
              "3          43    53     17                2                 12          1  \n",
              "4          11   295     22                3                 14          1  "
            ],
            "text/html": [
              "\n",
              "  <div id=\"df-b4dfabf5-4639-443b-ada4-72eb84ee31f6\" class=\"colab-df-container\">\n",
              "    <div>\n",
              "<style scoped>\n",
              "    .dataframe tbody tr th:only-of-type {\n",
              "        vertical-align: middle;\n",
              "    }\n",
              "\n",
              "    .dataframe tbody tr th {\n",
              "        vertical-align: top;\n",
              "    }\n",
              "\n",
              "    .dataframe thead th {\n",
              "        text-align: right;\n",
              "    }\n",
              "</style>\n",
              "<table border=\"1\" class=\"dataframe\">\n",
              "  <thead>\n",
              "    <tr style=\"text-align: right;\">\n",
              "      <th></th>\n",
              "      <th>Income</th>\n",
              "      <th>Age</th>\n",
              "      <th>Experience</th>\n",
              "      <th>Married/Single</th>\n",
              "      <th>House_Ownership</th>\n",
              "      <th>Car_Ownership</th>\n",
              "      <th>Profession</th>\n",
              "      <th>CITY</th>\n",
              "      <th>STATE</th>\n",
              "      <th>CURRENT_JOB_YRS</th>\n",
              "      <th>CURRENT_HOUSE_YRS</th>\n",
              "      <th>Risk_Flag</th>\n",
              "    </tr>\n",
              "  </thead>\n",
              "  <tbody>\n",
              "    <tr>\n",
              "      <th>0</th>\n",
              "      <td>1303834</td>\n",
              "      <td>23</td>\n",
              "      <td>3</td>\n",
              "      <td>1</td>\n",
              "      <td>2</td>\n",
              "      <td>0</td>\n",
              "      <td>33</td>\n",
              "      <td>250</td>\n",
              "      <td>13</td>\n",
              "      <td>3</td>\n",
              "      <td>13</td>\n",
              "      <td>0</td>\n",
              "    </tr>\n",
              "    <tr>\n",
              "      <th>1</th>\n",
              "      <td>7574516</td>\n",
              "      <td>40</td>\n",
              "      <td>10</td>\n",
              "      <td>1</td>\n",
              "      <td>2</td>\n",
              "      <td>0</td>\n",
              "      <td>43</td>\n",
              "      <td>226</td>\n",
              "      <td>14</td>\n",
              "      <td>9</td>\n",
              "      <td>13</td>\n",
              "      <td>0</td>\n",
              "    </tr>\n",
              "    <tr>\n",
              "      <th>2</th>\n",
              "      <td>3991815</td>\n",
              "      <td>66</td>\n",
              "      <td>4</td>\n",
              "      <td>0</td>\n",
              "      <td>2</td>\n",
              "      <td>0</td>\n",
              "      <td>47</td>\n",
              "      <td>8</td>\n",
              "      <td>12</td>\n",
              "      <td>4</td>\n",
              "      <td>10</td>\n",
              "      <td>0</td>\n",
              "    </tr>\n",
              "    <tr>\n",
              "      <th>3</th>\n",
              "      <td>6256451</td>\n",
              "      <td>41</td>\n",
              "      <td>2</td>\n",
              "      <td>1</td>\n",
              "      <td>2</td>\n",
              "      <td>1</td>\n",
              "      <td>43</td>\n",
              "      <td>53</td>\n",
              "      <td>17</td>\n",
              "      <td>2</td>\n",
              "      <td>12</td>\n",
              "      <td>1</td>\n",
              "    </tr>\n",
              "    <tr>\n",
              "      <th>4</th>\n",
              "      <td>5768871</td>\n",
              "      <td>47</td>\n",
              "      <td>11</td>\n",
              "      <td>1</td>\n",
              "      <td>2</td>\n",
              "      <td>0</td>\n",
              "      <td>11</td>\n",
              "      <td>295</td>\n",
              "      <td>22</td>\n",
              "      <td>3</td>\n",
              "      <td>14</td>\n",
              "      <td>1</td>\n",
              "    </tr>\n",
              "  </tbody>\n",
              "</table>\n",
              "</div>\n",
              "    <div class=\"colab-df-buttons\">\n",
              "\n",
              "  <div class=\"colab-df-container\">\n",
              "    <button class=\"colab-df-convert\" onclick=\"convertToInteractive('df-b4dfabf5-4639-443b-ada4-72eb84ee31f6')\"\n",
              "            title=\"Convert this dataframe to an interactive table.\"\n",
              "            style=\"display:none;\">\n",
              "\n",
              "  <svg xmlns=\"http://www.w3.org/2000/svg\" height=\"24px\" viewBox=\"0 -960 960 960\">\n",
              "    <path d=\"M120-120v-720h720v720H120Zm60-500h600v-160H180v160Zm220 220h160v-160H400v160Zm0 220h160v-160H400v160ZM180-400h160v-160H180v160Zm440 0h160v-160H620v160ZM180-180h160v-160H180v160Zm440 0h160v-160H620v160Z\"/>\n",
              "  </svg>\n",
              "    </button>\n",
              "\n",
              "  <style>\n",
              "    .colab-df-container {\n",
              "      display:flex;\n",
              "      gap: 12px;\n",
              "    }\n",
              "\n",
              "    .colab-df-convert {\n",
              "      background-color: #E8F0FE;\n",
              "      border: none;\n",
              "      border-radius: 50%;\n",
              "      cursor: pointer;\n",
              "      display: none;\n",
              "      fill: #1967D2;\n",
              "      height: 32px;\n",
              "      padding: 0 0 0 0;\n",
              "      width: 32px;\n",
              "    }\n",
              "\n",
              "    .colab-df-convert:hover {\n",
              "      background-color: #E2EBFA;\n",
              "      box-shadow: 0px 1px 2px rgba(60, 64, 67, 0.3), 0px 1px 3px 1px rgba(60, 64, 67, 0.15);\n",
              "      fill: #174EA6;\n",
              "    }\n",
              "\n",
              "    .colab-df-buttons div {\n",
              "      margin-bottom: 4px;\n",
              "    }\n",
              "\n",
              "    [theme=dark] .colab-df-convert {\n",
              "      background-color: #3B4455;\n",
              "      fill: #D2E3FC;\n",
              "    }\n",
              "\n",
              "    [theme=dark] .colab-df-convert:hover {\n",
              "      background-color: #434B5C;\n",
              "      box-shadow: 0px 1px 3px 1px rgba(0, 0, 0, 0.15);\n",
              "      filter: drop-shadow(0px 1px 2px rgba(0, 0, 0, 0.3));\n",
              "      fill: #FFFFFF;\n",
              "    }\n",
              "  </style>\n",
              "\n",
              "    <script>\n",
              "      const buttonEl =\n",
              "        document.querySelector('#df-b4dfabf5-4639-443b-ada4-72eb84ee31f6 button.colab-df-convert');\n",
              "      buttonEl.style.display =\n",
              "        google.colab.kernel.accessAllowed ? 'block' : 'none';\n",
              "\n",
              "      async function convertToInteractive(key) {\n",
              "        const element = document.querySelector('#df-b4dfabf5-4639-443b-ada4-72eb84ee31f6');\n",
              "        const dataTable =\n",
              "          await google.colab.kernel.invokeFunction('convertToInteractive',\n",
              "                                                    [key], {});\n",
              "        if (!dataTable) return;\n",
              "\n",
              "        const docLinkHtml = 'Like what you see? Visit the ' +\n",
              "          '<a target=\"_blank\" href=https://colab.research.google.com/notebooks/data_table.ipynb>data table notebook</a>'\n",
              "          + ' to learn more about interactive tables.';\n",
              "        element.innerHTML = '';\n",
              "        dataTable['output_type'] = 'display_data';\n",
              "        await google.colab.output.renderOutput(dataTable, element);\n",
              "        const docLink = document.createElement('div');\n",
              "        docLink.innerHTML = docLinkHtml;\n",
              "        element.appendChild(docLink);\n",
              "      }\n",
              "    </script>\n",
              "  </div>\n",
              "\n",
              "\n",
              "<div id=\"df-de8960e0-7160-4596-b897-71a91dc32a4c\">\n",
              "  <button class=\"colab-df-quickchart\" onclick=\"quickchart('df-de8960e0-7160-4596-b897-71a91dc32a4c')\"\n",
              "            title=\"Suggest charts\"\n",
              "            style=\"display:none;\">\n",
              "\n",
              "<svg xmlns=\"http://www.w3.org/2000/svg\" height=\"24px\"viewBox=\"0 0 24 24\"\n",
              "     width=\"24px\">\n",
              "    <g>\n",
              "        <path d=\"M19 3H5c-1.1 0-2 .9-2 2v14c0 1.1.9 2 2 2h14c1.1 0 2-.9 2-2V5c0-1.1-.9-2-2-2zM9 17H7v-7h2v7zm4 0h-2V7h2v10zm4 0h-2v-4h2v4z\"/>\n",
              "    </g>\n",
              "</svg>\n",
              "  </button>\n",
              "\n",
              "<style>\n",
              "  .colab-df-quickchart {\n",
              "      --bg-color: #E8F0FE;\n",
              "      --fill-color: #1967D2;\n",
              "      --hover-bg-color: #E2EBFA;\n",
              "      --hover-fill-color: #174EA6;\n",
              "      --disabled-fill-color: #AAA;\n",
              "      --disabled-bg-color: #DDD;\n",
              "  }\n",
              "\n",
              "  [theme=dark] .colab-df-quickchart {\n",
              "      --bg-color: #3B4455;\n",
              "      --fill-color: #D2E3FC;\n",
              "      --hover-bg-color: #434B5C;\n",
              "      --hover-fill-color: #FFFFFF;\n",
              "      --disabled-bg-color: #3B4455;\n",
              "      --disabled-fill-color: #666;\n",
              "  }\n",
              "\n",
              "  .colab-df-quickchart {\n",
              "    background-color: var(--bg-color);\n",
              "    border: none;\n",
              "    border-radius: 50%;\n",
              "    cursor: pointer;\n",
              "    display: none;\n",
              "    fill: var(--fill-color);\n",
              "    height: 32px;\n",
              "    padding: 0;\n",
              "    width: 32px;\n",
              "  }\n",
              "\n",
              "  .colab-df-quickchart:hover {\n",
              "    background-color: var(--hover-bg-color);\n",
              "    box-shadow: 0 1px 2px rgba(60, 64, 67, 0.3), 0 1px 3px 1px rgba(60, 64, 67, 0.15);\n",
              "    fill: var(--button-hover-fill-color);\n",
              "  }\n",
              "\n",
              "  .colab-df-quickchart-complete:disabled,\n",
              "  .colab-df-quickchart-complete:disabled:hover {\n",
              "    background-color: var(--disabled-bg-color);\n",
              "    fill: var(--disabled-fill-color);\n",
              "    box-shadow: none;\n",
              "  }\n",
              "\n",
              "  .colab-df-spinner {\n",
              "    border: 2px solid var(--fill-color);\n",
              "    border-color: transparent;\n",
              "    border-bottom-color: var(--fill-color);\n",
              "    animation:\n",
              "      spin 1s steps(1) infinite;\n",
              "  }\n",
              "\n",
              "  @keyframes spin {\n",
              "    0% {\n",
              "      border-color: transparent;\n",
              "      border-bottom-color: var(--fill-color);\n",
              "      border-left-color: var(--fill-color);\n",
              "    }\n",
              "    20% {\n",
              "      border-color: transparent;\n",
              "      border-left-color: var(--fill-color);\n",
              "      border-top-color: var(--fill-color);\n",
              "    }\n",
              "    30% {\n",
              "      border-color: transparent;\n",
              "      border-left-color: var(--fill-color);\n",
              "      border-top-color: var(--fill-color);\n",
              "      border-right-color: var(--fill-color);\n",
              "    }\n",
              "    40% {\n",
              "      border-color: transparent;\n",
              "      border-right-color: var(--fill-color);\n",
              "      border-top-color: var(--fill-color);\n",
              "    }\n",
              "    60% {\n",
              "      border-color: transparent;\n",
              "      border-right-color: var(--fill-color);\n",
              "    }\n",
              "    80% {\n",
              "      border-color: transparent;\n",
              "      border-right-color: var(--fill-color);\n",
              "      border-bottom-color: var(--fill-color);\n",
              "    }\n",
              "    90% {\n",
              "      border-color: transparent;\n",
              "      border-bottom-color: var(--fill-color);\n",
              "    }\n",
              "  }\n",
              "</style>\n",
              "\n",
              "  <script>\n",
              "    async function quickchart(key) {\n",
              "      const quickchartButtonEl =\n",
              "        document.querySelector('#' + key + ' button');\n",
              "      quickchartButtonEl.disabled = true;  // To prevent multiple clicks.\n",
              "      quickchartButtonEl.classList.add('colab-df-spinner');\n",
              "      try {\n",
              "        const charts = await google.colab.kernel.invokeFunction(\n",
              "            'suggestCharts', [key], {});\n",
              "      } catch (error) {\n",
              "        console.error('Error during call to suggestCharts:', error);\n",
              "      }\n",
              "      quickchartButtonEl.classList.remove('colab-df-spinner');\n",
              "      quickchartButtonEl.classList.add('colab-df-quickchart-complete');\n",
              "    }\n",
              "    (() => {\n",
              "      let quickchartButtonEl =\n",
              "        document.querySelector('#df-de8960e0-7160-4596-b897-71a91dc32a4c button');\n",
              "      quickchartButtonEl.style.display =\n",
              "        google.colab.kernel.accessAllowed ? 'block' : 'none';\n",
              "    })();\n",
              "  </script>\n",
              "</div>\n",
              "    </div>\n",
              "  </div>\n"
            ]
          },
          "metadata": {},
          "execution_count": 29
        }
      ],
      "source": [
        "df.head()"
      ]
    },
    {
      "cell_type": "code",
      "execution_count": null,
      "metadata": {
        "id": "E7kq5aFC9GLE"
      },
      "outputs": [],
      "source": [
        "with open('label_encoder.pkl', 'wb') as le_file:\n",
        "    pickle.dump(label_encoder, le_file)"
      ]
    },
    {
      "cell_type": "code",
      "execution_count": null,
      "metadata": {
        "colab": {
          "base_uri": "https://localhost:8080/"
        },
        "id": "LpfJvPCW9GNt",
        "outputId": "f24d72e1-87ff-4eaa-f246-d77fcabb88a9"
      },
      "outputs": [
        {
          "output_type": "execute_result",
          "data": {
            "text/plain": [
              "Income              -0.003091\n",
              "Age                 -0.021809\n",
              "Experience          -0.034523\n",
              "Married/Single       0.021092\n",
              "House_Ownership      0.023622\n",
              "Car_Ownership       -0.024036\n",
              "Profession          -0.004900\n",
              "CITY                 0.004543\n",
              "STATE               -0.003401\n",
              "CURRENT_JOB_YRS     -0.016942\n",
              "CURRENT_HOUSE_YRS   -0.004375\n",
              "Risk_Flag            1.000000\n",
              "Name: Risk_Flag, dtype: float64"
            ]
          },
          "metadata": {},
          "execution_count": 31
        }
      ],
      "source": [
        "df.corr()['Risk_Flag']"
      ]
    },
    {
      "cell_type": "code",
      "execution_count": null,
      "metadata": {
        "colab": {
          "base_uri": "https://localhost:8080/",
          "height": 844
        },
        "id": "HVHkDEZ09GQZ",
        "outputId": "618116cd-a92a-40a7-ee1e-780df6b4eaa8"
      },
      "outputs": [
        {
          "output_type": "display_data",
          "data": {
            "text/plain": [
              "<Figure size 1200x800 with 2 Axes>"
            ],
            "image/png": "[encoded data removed]"
          },
          "metadata": {}
        }
      ],
      "source": [
        "fig, ax = plt.subplots( figsize = (12,8) )\n",
        "corr_matrix = df.corr()\n",
        "corr_heatmap = sns.heatmap( corr_matrix, cmap = \"flare\", annot=True, ax=ax, annot_kws={\"size\": 14})\n",
        "plt.show()"
      ]
    },
    {
      "cell_type": "code",
      "execution_count": null,
      "metadata": {
        "colab": {
          "base_uri": "https://localhost:8080/"
        },
        "id": "lJabDlFo9GTI",
        "outputId": "93d53757-2e5c-4537-bd71-491475024da5"
      },
      "outputs": [
        {
          "output_type": "stream",
          "name": "stdout",
          "text": [
            "Collecting sweetviz\n",
            "  Downloading sweetviz-2.3.0-py3-none-any.whl (15.1 MB)\n",
            "\u001b[2K     \u001b[90m━━━━━━━━━━━━━━━━━━━━━━━━━━━━━━━━━━━━━━━━\u001b[0m \u001b[32m15.1/15.1 MB\u001b[0m \u001b[31m62.6 MB/s\u001b[0m eta \u001b[36m0:00:00\u001b[0m\n",
            "\u001b[?25hRequirement already satisfied: pandas!=1.0.0,!=1.0.1,!=1.0.2,>=0.25.3 in /usr/local/lib/python3.10/dist-packages (from sweetviz) (1.5.3)\n",
            "Requirement already satisfied: numpy>=1.16.0 in /usr/local/lib/python3.10/dist-packages (from sweetviz) (1.23.5)\n",
            "Requirement already satisfied: matplotlib>=3.1.3 in /usr/local/lib/python3.10/dist-packages (from sweetviz) (3.7.1)\n",
            "Requirement already satisfied: tqdm>=4.43.0 in /usr/local/lib/python3.10/dist-packages (from sweetviz) (4.66.1)\n",
            "Requirement already satisfied: scipy>=1.3.2 in /usr/local/lib/python3.10/dist-packages (from sweetviz) (1.11.3)\n",
            "Requirement already satisfied: jinja2>=2.11.1 in /usr/local/lib/python3.10/dist-packages (from sweetviz) (3.1.2)\n",
            "Requirement already satisfied: importlib-resources>=1.2.0 in /usr/local/lib/python3.10/dist-packages (from sweetviz) (6.1.1)\n",
            "Requirement already satisfied: MarkupSafe>=2.0 in /usr/local/lib/python3.10/dist-packages (from jinja2>=2.11.1->sweetviz) (2.1.3)\n",
            "Requirement already satisfied: contourpy>=1.0.1 in /usr/local/lib/python3.10/dist-packages (from matplotlib>=3.1.3->sweetviz) (1.2.0)\n",
            "Requirement already satisfied: cycler>=0.10 in /usr/local/lib/python3.10/dist-packages (from matplotlib>=3.1.3->sweetviz) (0.12.1)\n",
            "Requirement already satisfied: fonttools>=4.22.0 in /usr/local/lib/python3.10/dist-packages (from matplotlib>=3.1.3->sweetviz) (4.44.3)\n",
            "Requirement already satisfied: kiwisolver>=1.0.1 in /usr/local/lib/python3.10/dist-packages (from matplotlib>=3.1.3->sweetviz) (1.4.5)\n",
            "Requirement already satisfied: packaging>=20.0 in /usr/local/lib/python3.10/dist-packages (from matplotlib>=3.1.3->sweetviz) (23.2)\n",
            "Requirement already satisfied: pillow>=6.2.0 in /usr/local/lib/python3.10/dist-packages (from matplotlib>=3.1.3->sweetviz) (9.4.0)\n",
            "Requirement already satisfied: pyparsing>=2.3.1 in /usr/local/lib/python3.10/dist-packages (from matplotlib>=3.1.3->sweetviz) (3.1.1)\n",
            "Requirement already satisfied: python-dateutil>=2.7 in /usr/local/lib/python3.10/dist-packages (from matplotlib>=3.1.3->sweetviz) (2.8.2)\n",
            "Requirement already satisfied: pytz>=2020.1 in /usr/local/lib/python3.10/dist-packages (from pandas!=1.0.0,!=1.0.1,!=1.0.2,>=0.25.3->sweetviz) (2023.3.post1)\n",
            "Requirement already satisfied: six>=1.5 in /usr/local/lib/python3.10/dist-packages (from python-dateutil>=2.7->matplotlib>=3.1.3->sweetviz) (1.16.0)\n",
            "Installing collected packages: sweetviz\n",
            "Successfully installed sweetviz-2.3.0\n"
          ]
        }
      ],
      "source": [
        "pip install sweetviz"
      ]
    },
    {
      "cell_type": "code",
      "execution_count": null,
      "metadata": {
        "colab": {
          "base_uri": "https://localhost:8080/",
          "height": 49,
          "referenced_widgets": [
            "670f5d9172d04829891124e068a3ad2c",
            "51bfc85e35d34a4bab0706a5d4baa346",
            "389647597e6d4e73a5d9d96c951a2bab",
            "9f3a6db0f1fe442a9880c2b710c89b89",
            "9061c50308c24d80a3c1a6daa3575af9",
            "5deed1d4ca474506bcb89ddd86bd2bba",
            "86536051495c4330931b2bee8ad3d953",
            "d3928ac49f024344b835c2d00bfea4ed",
            "b98f61e59a94486596c726322a54ba5c",
            "08d5464f05414ddaa81a14940ba3418b",
            "4760d61df4044d7282b90b8e97f24788"
          ]
        },
        "id": "C0vMZm0N9GVr",
        "outputId": "146b31f4-d23e-4a4b-a166-d2895f641717"
      },
      "outputs": [
        {
          "output_type": "display_data",
          "data": {
            "text/plain": [
              "                                             |          | [  0%]   00:00 -> (? left)"
            ],
            "application/vnd.jupyter.widget-view+json": {
              "version_major": 2,
              "version_minor": 0,
              "model_id": "670f5d9172d04829891124e068a3ad2c"
            }
          },
          "metadata": {}
        }
      ],
      "source": [
        "import sweetviz\n",
        "my_report = sweetviz.analyze([df, \"Train\"], target_feat = \"Risk_Flag\")"
      ]
    },
    {
      "cell_type": "code",
      "execution_count": null,
      "metadata": {
        "colab": {
          "base_uri": "https://localhost:8080/"
        },
        "id": "K35V7UjD9GYe",
        "outputId": "95cf5c27-c293-4dd7-b78e-8b571742b8af"
      },
      "outputs": [
        {
          "output_type": "stream",
          "name": "stdout",
          "text": [
            "Report Report.html was generated! NOTEBOOK/COLAB USERS: the web browser MAY not pop up, regardless, the report IS saved in your notebook/colab files.\n"
          ]
        }
      ],
      "source": [
        "my_report.show_html('Report.html')"
      ]
    },
    {
      "cell_type": "code",
      "execution_count": null,
      "metadata": {
        "id": "RL37YgmJ9GbV"
      },
      "outputs": [],
      "source": [
        "x = df.drop(\"Risk_Flag\", axis=1)\n",
        "y = df[\"Risk_Flag\"]\n",
        "\n",
        "from imblearn.over_sampling import SMOTE\n",
        "from sklearn.preprocessing import StandardScaler\n",
        "from sklearn.model_selection import train_test_split\n",
        "\n",
        "X_train,X_test,y_train,y_test = train_test_split(x, y, test_size = 0.2, stratify = y,random_state = 7)\n",
        "\n",
        "# Create a StandardScaler object\n",
        "scaler = StandardScaler()\n",
        "\n",
        "# Fit the StandardScaler object to the training data\n",
        "scaler.fit(X_train)\n",
        "\n",
        "# Transform the training and testing data using the StandardScaler object\n",
        "X_train_scaled = scaler.transform(X_train)\n",
        "X_test_scaled = scaler.transform(X_test)\n",
        "\n",
        "# Create a SMOTE object\n",
        "smote = SMOTE()\n",
        "\n",
        "# Oversample the training data using SMOTE\n",
        "X_train_smoted, y_train_smoted = smote.fit_resample(X_train_scaled, y_train)\n",
        "\n",
        "# Split the oversampled training data into training and testing sets\n",
        "X_train_smoted, X_test_smoted, y_train_smoted, y_test_smoted = train_test_split(X_train_smoted, y_train_smoted, test_size=0.25)"
      ]
    },
    {
      "cell_type": "code",
      "execution_count": null,
      "metadata": {
        "colab": {
          "base_uri": "https://localhost:8080/",
          "height": 464
        },
        "id": "fS4j3Xjo5NJU",
        "outputId": "5650a11e-8417-4743-cf94-f049968857c4"
      },
      "outputs": [
        {
          "output_type": "execute_result",
          "data": {
            "text/plain": [
              "<Axes: xlabel='Married/Single', ylabel='count'>"
            ]
          },
          "metadata": {},
          "execution_count": 37
        },
        {
          "output_type": "display_data",
          "data": {
            "text/plain": [
              "<Figure size 640x480 with 1 Axes>"
            ],
            "image/png": "[encoded data removed]"
          },
          "metadata": {}
        }
      ],
      "source": [
        "import seaborn as sns\n",
        "import pandas as pd\n",
        "\n",
        "# Assuming X_train_smoted is your NumPy array\n",
        "# Convert it to a pandas DataFrame\n",
        "df = pd.DataFrame(X_train_smoted, columns=['Income', 'Age', 'Experience', 'Married/Single', 'House_Ownership', 'Car_Ownership', 'Profession', 'City', 'State', 'Current_Job_Yrs', 'Current_House_Yrs'])\n",
        "\n",
        "# Now use sns.countplot with the DataFrame\n",
        "sns.countplot(data=df, x='Married/Single')\n"
      ]
    },
    {
      "cell_type": "code",
      "execution_count": null,
      "metadata": {
        "id": "k3YvW_rZ9GeM"
      },
      "outputs": [],
      "source": [
        "with open('standard_scaler.pkl', 'wb') as ss_file:\n",
        "    pickle.dump(scaler, ss_file)"
      ]
    },
    {
      "cell_type": "code",
      "execution_count": null,
      "metadata": {
        "colab": {
          "base_uri": "https://localhost:8080/"
        },
        "id": "2LsXsQJ79Gg0",
        "outputId": "ee1728ba-2546-43bd-9324-bf54dff1ce57"
      },
      "outputs": [
        {
          "output_type": "stream",
          "name": "stdout",
          "text": [
            "With Scaling:  0.9309744123436121\n",
            "-------------------------TEST SCORES-----------------------\n",
            "Recall: 0.9669937152416693\n",
            "Precision: 0.9021005567740847\n",
            "F1-Score: 0.9334206219312603\n",
            "Accuracy score: 0.9309744123436121\n",
            "AUC Score: 0.9309475006202914\n"
          ]
        }
      ],
      "source": [
        "from sklearn.ensemble import RandomForestClassifier\n",
        "\n",
        "clf_1 = RandomForestClassifier(criterion='gini', bootstrap = True, max_depth = 20, max_features = None, min_samples_split=10,n_estimators = 100, random_state=100)\n",
        "\n",
        "clf_1.fit(X_train_smoted,y_train_smoted)\n",
        "y_pred = clf_1.predict(X_test_smoted)\n",
        "print(\"With Scaling: \",accuracy_score(y_test_smoted,y_pred))\n",
        "\n",
        "print(\"-------------------------TEST SCORES-----------------------\")\n",
        "print(f\"Recall: { recall_score(y_test_smoted, y_pred) }\")\n",
        "print(f\"Precision: { precision_score(y_test_smoted, y_pred) }\")\n",
        "print(f\"F1-Score: { f1_score(y_test_smoted, y_pred) }\")\n",
        "print(f\"Accuracy score: { accuracy_score(y_test_smoted, y_pred) }\")\n",
        "print(f\"AUC Score: { roc_auc_score(y_test_smoted, y_pred) }\")"
      ]
    },
    {
      "cell_type": "code",
      "execution_count": null,
      "metadata": {
        "colab": {
          "base_uri": "https://localhost:8080/"
        },
        "id": "Yt43rwWO9Gj7",
        "outputId": "fbe1f16f-8b47-4468-c311-efecfbbac1ad"
      },
      "outputs": [
        {
          "output_type": "stream",
          "name": "stdout",
          "text": [
            "With Scaling:  0.811373045858691\n",
            "-------------------------TEST SCORES-----------------------\n",
            "Recall: 0.8495501198173351\n",
            "Precision: 0.7894913758692409\n",
            "F1-Score: 0.8184203935404484\n",
            "Accuracy score: 0.811373045858691\n",
            "AUC Score: 0.8113445219626433\n"
          ]
        }
      ],
      "source": [
        "from sklearn.tree import DecisionTreeClassifier\n",
        "\n",
        "clf_2 = DecisionTreeClassifier(criterion='gini', max_depth=20, max_features=None, min_samples_split=5, random_state=100)\n",
        "\n",
        "clf_2.fit(X_train_smoted, y_train_smoted)\n",
        "y_pred = clf_2.predict(X_test_smoted)\n",
        "\n",
        "print(\"With Scaling: \",accuracy_score(y_test_smoted,y_pred))\n",
        "\n",
        "print(\"-------------------------TEST SCORES-----------------------\")\n",
        "print(f\"Recall: { recall_score(y_test_smoted, y_pred) }\")\n",
        "print(f\"Precision: { precision_score(y_test_smoted, y_pred) }\")\n",
        "print(f\"F1-Score: { f1_score(y_test_smoted, y_pred) }\")\n",
        "print(f\"Accuracy score: { accuracy_score(y_test_smoted, y_pred) }\")\n",
        "print(f\"AUC Score: { roc_auc_score(y_test_smoted, y_pred) }\")"
      ]
    },
    {
      "cell_type": "code",
      "execution_count": null,
      "metadata": {
        "colab": {
          "base_uri": "https://localhost:8080/"
        },
        "id": "1LnHQn1R9Gm4",
        "outputId": "f537ce1e-c793-479b-9a04-123a26687bea"
      },
      "outputs": [
        {
          "output_type": "stream",
          "name": "stdout",
          "text": [
            "With Scaling:  0.9409968100269225\n",
            "-------------------------TEST SCORES-----------------------\n",
            "Recall: 0.9712438395804133\n",
            "Precision: 0.9159169402635058\n",
            "F1-Score: 0.9427693658108406\n",
            "Accuracy score: 0.9409968100269225\n",
            "AUC Score: 0.9409742110417915\n"
          ]
        }
      ],
      "source": [
        "from xgboost import XGBClassifier\n",
        "from sklearn.metrics import accuracy_score, precision_score, recall_score, f1_score\n",
        "\n",
        "# Create the classifier\n",
        "clf_3 = XGBClassifier()\n",
        "\n",
        "# Set parameters\n",
        "clf_3.set_params(n_estimators=100, learning_rate=0.3, max_depth=20)\n",
        "\n",
        "clf_3.fit(X_train_smoted, y_train_smoted)\n",
        "y_pred = clf_3.predict(X_test_smoted)\n",
        "\n",
        "print(\"With Scaling: \",accuracy_score(y_test_smoted,y_pred))\n",
        "\n",
        "print(\"-------------------------TEST SCORES-----------------------\")\n",
        "print(f\"Recall: { recall_score(y_test_smoted, y_pred) }\")\n",
        "print(f\"Precision: { precision_score(y_test_smoted, y_pred) }\")\n",
        "print(f\"F1-Score: { f1_score(y_test_smoted, y_pred) }\")\n",
        "print(f\"Accuracy score: { accuracy_score(y_test_smoted, y_pred) }\")\n",
        "print(f\"AUC Score: { roc_auc_score(y_test_smoted, y_pred) }\")"
      ]
    },
    {
      "cell_type": "code",
      "execution_count": null,
      "metadata": {
        "id": "fGtMtnFb9Gpl",
        "colab": {
          "base_uri": "https://localhost:8080/"
        },
        "outputId": "27279d19-4b13-4962-9f55-94b5f3230556"
      },
      "outputs": [
        {
          "output_type": "stream",
          "name": "stdout",
          "text": [
            "With Scaling:  0.5691387072690663\n",
            "-------------------------TEST SCORES-----------------------\n",
            "Recall: 0.5861554460369851\n",
            "Precision: 0.5672157686333705\n",
            "F1-Score: 0.5765301017288343\n",
            "Accuracy score: 0.5691387072690663\n",
            "AUC Score: 0.569125993259391\n"
          ]
        }
      ],
      "source": [
        "from sklearn.ensemble import AdaBoostClassifier\n",
        "\n",
        "clf_4 = AdaBoostClassifier(n_estimators=200, learning_rate=0.1)\n",
        "\n",
        "clf_4.fit(X_train_smoted, y_train_smoted)\n",
        "y_pred = clf_4.predict(X_test_smoted)\n",
        "\n",
        "print(\"With Scaling: \",accuracy_score(y_test_smoted,y_pred))\n",
        "\n",
        "print(\"-------------------------TEST SCORES-----------------------\")\n",
        "print(f\"Recall: { recall_score(y_test_smoted, y_pred) }\")\n",
        "print(f\"Precision: { precision_score(y_test_smoted, y_pred) }\")\n",
        "print(f\"F1-Score: { f1_score(y_test_smoted, y_pred) }\")\n",
        "print(f\"Accuracy score: { accuracy_score(y_test_smoted, y_pred) }\")\n",
        "print(f\"AUC Score: { roc_auc_score(y_test_smoted, y_pred) }\")"
      ]
    },
    {
      "cell_type": "code",
      "execution_count": null,
      "metadata": {
        "id": "DAHJNZnk9Gsh",
        "colab": {
          "base_uri": "https://localhost:8080/"
        },
        "outputId": "8dc7f447-38ba-4aac-d76a-143cac3efe46"
      },
      "outputs": [
        {
          "output_type": "stream",
          "name": "stdout",
          "text": [
            "With Scaling:  0.9382593154001041\n",
            "-------------------------TEST SCORES-----------------------\n",
            "Recall: 0.9744766469231813\n",
            "Precision: 0.9087363494539782\n",
            "F1-Score: 0.9404590478683946\n",
            "Accuracy score: 0.9382593154001041\n",
            "AUC Score: 0.9382322557202395\n"
          ]
        }
      ],
      "source": [
        "from sklearn.ensemble import AdaBoostClassifier\n",
        "from sklearn.tree import DecisionTreeClassifier\n",
        "\n",
        "dct=DecisionTreeClassifier(max_depth=10)\n",
        "\n",
        "clf_5 = AdaBoostClassifier(n_estimators=200, estimator=dct,learning_rate=0.2)\n",
        "\n",
        "clf_5.fit(X_train_smoted, y_train_smoted)\n",
        "y_pred = clf_5.predict(X_test_smoted)\n",
        "\n",
        "print(\"With Scaling: \",accuracy_score(y_test_smoted,y_pred))\n",
        "\n",
        "print(\"-------------------------TEST SCORES-----------------------\")\n",
        "print(f\"Recall: { recall_score(y_test_smoted, y_pred) }\")\n",
        "print(f\"Precision: { precision_score(y_test_smoted, y_pred) }\")\n",
        "print(f\"F1-Score: { f1_score(y_test_smoted, y_pred) }\")\n",
        "print(f\"Accuracy score: { accuracy_score(y_test_smoted, y_pred) }\")\n",
        "print(f\"AUC Score: { roc_auc_score(y_test_smoted, y_pred) }\")"
      ]
    },
    {
      "cell_type": "code",
      "execution_count": null,
      "metadata": {
        "colab": {
          "base_uri": "https://localhost:8080/"
        },
        "id": "eqlz6JU39Gu2",
        "outputId": "a71771df-102a-4624-93cd-3baef5b5bcc7"
      },
      "outputs": [
        {
          "output_type": "stream",
          "name": "stdout",
          "text": [
            "With Scaling:  0.9501821225764123\n",
            "-------------------------TEST SCORES-----------------------\n",
            "Recall: 0.9933987430483339\n",
            "Precision: 0.9144296000332959\n",
            "F1-Score: 0.9522798196948683\n",
            "Accuracy score: 0.9501821225764123\n",
            "AUC Score: 0.9501498333970161\n"
          ]
        }
      ],
      "source": [
        "from sklearn.ensemble import ExtraTreesClassifier\n",
        "\n",
        "clf_6 = ExtraTreesClassifier(n_estimators=200, criterion='gini')\n",
        "\n",
        "clf_6.fit(X_train_smoted, y_train_smoted)\n",
        "y_pred = clf_6.predict(X_test_smoted)\n",
        "\n",
        "print(\"With Scaling: \",accuracy_score(y_test_smoted,y_pred))\n",
        "\n",
        "print(\"-------------------------TEST SCORES-----------------------\")\n",
        "print(f\"Recall: { recall_score(y_test_smoted, y_pred) }\")\n",
        "print(f\"Precision: { precision_score(y_test_smoted, y_pred) }\")\n",
        "print(f\"F1-Score: { f1_score(y_test_smoted, y_pred) }\")\n",
        "print(f\"Accuracy score: { accuracy_score(y_test_smoted, y_pred) }\")\n",
        "print(f\"AUC Score: { roc_auc_score(y_test_smoted, y_pred) }\")"
      ]
    },
    {
      "cell_type": "code",
      "execution_count": null,
      "metadata": {
        "colab": {
          "base_uri": "https://localhost:8080/"
        },
        "id": "GUcwnrsl9Gxw",
        "outputId": "f7aedc41-a5d9-4675-feb5-4bfe46f3c1b6"
      },
      "outputs": [
        {
          "output_type": "stream",
          "name": "stdout",
          "text": [
            "With Scaling:  0.9357819958824461\n",
            "-------------------------TEST SCORES-----------------------\n",
            "Recall: 0.9658181489352082\n",
            "Precision: 0.9111694072983982\n",
            "F1-Score: 0.9376982254365075\n",
            "Accuracy score: 0.9357819958824461\n",
            "AUC Score: 0.9357595544531141\n"
          ]
        }
      ],
      "source": [
        "from sklearn.ensemble import GradientBoostingClassifier\n",
        "\n",
        "clf_7 = GradientBoostingClassifier(n_estimators=100, max_depth=10, learning_rate = 0.1)\n",
        "\n",
        "clf_7.fit(X_train_smoted, y_train_smoted)\n",
        "y_pred = clf_7.predict(X_test_smoted)\n",
        "\n",
        "print(\"With Scaling: \",accuracy_score(y_test_smoted,y_pred))\n",
        "\n",
        "print(\"-------------------------TEST SCORES-----------------------\")\n",
        "print(f\"Recall: { recall_score(y_test_smoted, y_pred) }\")\n",
        "print(f\"Precision: { precision_score(y_test_smoted, y_pred) }\")\n",
        "print(f\"F1-Score: { f1_score(y_test_smoted, y_pred) }\")\n",
        "print(f\"Accuracy score: { accuracy_score(y_test_smoted, y_pred) }\")\n",
        "print(f\"AUC Score: { roc_auc_score(y_test_smoted, y_pred) }\")"
      ]
    },
    {
      "cell_type": "code",
      "execution_count": null,
      "metadata": {
        "colab": {
          "base_uri": "https://localhost:8080/"
        },
        "id": "n4gwPYnL9G0W",
        "outputId": "a1c936b4-58f9-420c-b438-cbd0917b3434"
      },
      "outputs": [
        {
          "output_type": "stream",
          "name": "stdout",
          "text": [
            "Collecting catboost\n",
            "  Downloading catboost-1.2.2-cp310-cp310-manylinux2014_x86_64.whl (98.7 MB)\n",
            "\u001b[2K     \u001b[90m━━━━━━━━━━━━━━━━━━━━━━━━━━━━━━━━━━━━━━━━\u001b[0m \u001b[32m98.7/98.7 MB\u001b[0m \u001b[31m8.1 MB/s\u001b[0m eta \u001b[36m0:00:00\u001b[0m\n",
            "\u001b[?25hRequirement already satisfied: graphviz in /usr/local/lib/python3.10/dist-packages (from catboost) (0.20.1)\n",
            "Requirement already satisfied: matplotlib in /usr/local/lib/python3.10/dist-packages (from catboost) (3.7.1)\n",
            "Requirement already satisfied: numpy>=1.16.0 in /usr/local/lib/python3.10/dist-packages (from catboost) (1.23.5)\n",
            "Requirement already satisfied: pandas>=0.24 in /usr/local/lib/python3.10/dist-packages (from catboost) (1.5.3)\n",
            "Requirement already satisfied: scipy in /usr/local/lib/python3.10/dist-packages (from catboost) (1.11.3)\n",
            "Requirement already satisfied: plotly in /usr/local/lib/python3.10/dist-packages (from catboost) (5.15.0)\n",
            "Requirement already satisfied: six in /usr/local/lib/python3.10/dist-packages (from catboost) (1.16.0)\n",
            "Requirement already satisfied: python-dateutil>=2.8.1 in /usr/local/lib/python3.10/dist-packages (from pandas>=0.24->catboost) (2.8.2)\n",
            "Requirement already satisfied: pytz>=2020.1 in /usr/local/lib/python3.10/dist-packages (from pandas>=0.24->catboost) (2023.3.post1)\n",
            "Requirement already satisfied: contourpy>=1.0.1 in /usr/local/lib/python3.10/dist-packages (from matplotlib->catboost) (1.2.0)\n",
            "Requirement already satisfied: cycler>=0.10 in /usr/local/lib/python3.10/dist-packages (from matplotlib->catboost) (0.12.1)\n",
            "Requirement already satisfied: fonttools>=4.22.0 in /usr/local/lib/python3.10/dist-packages (from matplotlib->catboost) (4.44.3)\n",
            "Requirement already satisfied: kiwisolver>=1.0.1 in /usr/local/lib/python3.10/dist-packages (from matplotlib->catboost) (1.4.5)\n",
            "Requirement already satisfied: packaging>=20.0 in /usr/local/lib/python3.10/dist-packages (from matplotlib->catboost) (23.2)\n",
            "Requirement already satisfied: pillow>=6.2.0 in /usr/local/lib/python3.10/dist-packages (from matplotlib->catboost) (9.4.0)\n",
            "Requirement already satisfied: pyparsing>=2.3.1 in /usr/local/lib/python3.10/dist-packages (from matplotlib->catboost) (3.1.1)\n",
            "Requirement already satisfied: tenacity>=6.2.0 in /usr/local/lib/python3.10/dist-packages (from plotly->catboost) (8.2.3)\n",
            "Installing collected packages: catboost\n",
            "Successfully installed catboost-1.2.2\n"
          ]
        }
      ],
      "source": [
        "pip install catboost"
      ]
    },
    {
      "cell_type": "code",
      "execution_count": null,
      "metadata": {
        "colab": {
          "base_uri": "https://localhost:8080/"
        },
        "id": "gv8yj_swEa3H",
        "outputId": "5b95d6ab-f6a3-4c39-c258-4119f2c47026"
      },
      "outputs": [
        {
          "output_type": "stream",
          "name": "stdout",
          "text": [
            "Learning rate set to 0.5\n",
            "0:\tlearn: 0.6719291\ttotal: 245ms\tremaining: 24.2s\n",
            "1:\tlearn: 0.6584056\ttotal: 417ms\tremaining: 20.4s\n",
            "2:\tlearn: 0.6458393\ttotal: 628ms\tremaining: 20.3s\n",
            "3:\tlearn: 0.6347353\ttotal: 819ms\tremaining: 19.7s\n",
            "4:\tlearn: 0.6267605\ttotal: 1s\tremaining: 19.1s\n",
            "5:\tlearn: 0.6074611\ttotal: 1.23s\tremaining: 19.2s\n",
            "6:\tlearn: 0.5985851\ttotal: 1.43s\tremaining: 19s\n",
            "7:\tlearn: 0.5852548\ttotal: 1.64s\tremaining: 18.9s\n",
            "8:\tlearn: 0.5756017\ttotal: 1.87s\tremaining: 18.9s\n",
            "9:\tlearn: 0.5675785\ttotal: 2.11s\tremaining: 19s\n",
            "10:\tlearn: 0.5582128\ttotal: 2.41s\tremaining: 19.5s\n",
            "11:\tlearn: 0.5522029\ttotal: 2.72s\tremaining: 19.9s\n",
            "12:\tlearn: 0.5433550\ttotal: 2.93s\tremaining: 19.6s\n",
            "13:\tlearn: 0.5329399\ttotal: 3.13s\tremaining: 19.2s\n",
            "14:\tlearn: 0.5242942\ttotal: 3.35s\tremaining: 19s\n",
            "15:\tlearn: 0.5136677\ttotal: 3.53s\tremaining: 18.5s\n",
            "16:\tlearn: 0.5079006\ttotal: 3.72s\tremaining: 18.1s\n",
            "17:\tlearn: 0.4998542\ttotal: 3.89s\tremaining: 17.7s\n",
            "18:\tlearn: 0.4938946\ttotal: 4.04s\tremaining: 17.2s\n",
            "19:\tlearn: 0.4881520\ttotal: 4.22s\tremaining: 16.9s\n",
            "20:\tlearn: 0.4831106\ttotal: 4.38s\tremaining: 16.5s\n",
            "21:\tlearn: 0.4734968\ttotal: 4.99s\tremaining: 17.7s\n",
            "22:\tlearn: 0.4637347\ttotal: 5.43s\tremaining: 18.2s\n",
            "23:\tlearn: 0.4592541\ttotal: 5.63s\tremaining: 17.8s\n",
            "24:\tlearn: 0.4521036\ttotal: 5.86s\tremaining: 17.6s\n",
            "25:\tlearn: 0.4477238\ttotal: 6.05s\tremaining: 17.2s\n",
            "26:\tlearn: 0.4397045\ttotal: 6.28s\tremaining: 17s\n",
            "27:\tlearn: 0.4345234\ttotal: 6.54s\tremaining: 16.8s\n",
            "28:\tlearn: 0.4283013\ttotal: 6.82s\tremaining: 16.7s\n",
            "29:\tlearn: 0.4203819\ttotal: 7.08s\tremaining: 16.5s\n",
            "30:\tlearn: 0.4159253\ttotal: 7.35s\tremaining: 16.4s\n",
            "31:\tlearn: 0.4128082\ttotal: 7.63s\tremaining: 16.2s\n",
            "32:\tlearn: 0.4102904\ttotal: 7.85s\tremaining: 15.9s\n",
            "33:\tlearn: 0.4066417\ttotal: 8.1s\tremaining: 15.7s\n",
            "34:\tlearn: 0.4026009\ttotal: 8.54s\tremaining: 15.9s\n",
            "35:\tlearn: 0.3955888\ttotal: 8.81s\tremaining: 15.7s\n",
            "36:\tlearn: 0.3915157\ttotal: 9.16s\tremaining: 15.6s\n",
            "37:\tlearn: 0.3854010\ttotal: 9.43s\tremaining: 15.4s\n",
            "38:\tlearn: 0.3823654\ttotal: 9.7s\tremaining: 15.2s\n",
            "39:\tlearn: 0.3774206\ttotal: 9.98s\tremaining: 15s\n",
            "40:\tlearn: 0.3735991\ttotal: 10.3s\tremaining: 14.8s\n",
            "41:\tlearn: 0.3708056\ttotal: 10.5s\tremaining: 14.5s\n",
            "42:\tlearn: 0.3662109\ttotal: 10.8s\tremaining: 14.3s\n",
            "43:\tlearn: 0.3614722\ttotal: 11s\tremaining: 14s\n",
            "44:\tlearn: 0.3593113\ttotal: 11.3s\tremaining: 13.9s\n",
            "45:\tlearn: 0.3550892\ttotal: 11.8s\tremaining: 13.8s\n",
            "46:\tlearn: 0.3517649\ttotal: 12.1s\tremaining: 13.6s\n",
            "47:\tlearn: 0.3477305\ttotal: 12.4s\tremaining: 13.5s\n",
            "48:\tlearn: 0.3458902\ttotal: 12.7s\tremaining: 13.3s\n",
            "49:\tlearn: 0.3430427\ttotal: 13.1s\tremaining: 13.1s\n",
            "50:\tlearn: 0.3404714\ttotal: 13.4s\tremaining: 12.8s\n",
            "51:\tlearn: 0.3376401\ttotal: 13.6s\tremaining: 12.6s\n",
            "52:\tlearn: 0.3354692\ttotal: 13.9s\tremaining: 12.3s\n",
            "53:\tlearn: 0.3326951\ttotal: 14.1s\tremaining: 12s\n",
            "54:\tlearn: 0.3286936\ttotal: 14.3s\tremaining: 11.7s\n",
            "55:\tlearn: 0.3254580\ttotal: 14.5s\tremaining: 11.4s\n",
            "56:\tlearn: 0.3212479\ttotal: 14.8s\tremaining: 11.1s\n",
            "57:\tlearn: 0.3166937\ttotal: 15s\tremaining: 10.8s\n",
            "58:\tlearn: 0.3146717\ttotal: 15.2s\tremaining: 10.6s\n",
            "59:\tlearn: 0.3120382\ttotal: 15.6s\tremaining: 10.4s\n",
            "60:\tlearn: 0.3105193\ttotal: 15.8s\tremaining: 10.1s\n",
            "61:\tlearn: 0.3092104\ttotal: 16.3s\tremaining: 9.96s\n",
            "62:\tlearn: 0.3069676\ttotal: 16.5s\tremaining: 9.7s\n",
            "63:\tlearn: 0.3052686\ttotal: 17s\tremaining: 9.54s\n",
            "64:\tlearn: 0.3034073\ttotal: 17.3s\tremaining: 9.32s\n",
            "65:\tlearn: 0.3015330\ttotal: 17.9s\tremaining: 9.21s\n",
            "66:\tlearn: 0.2987311\ttotal: 18.3s\tremaining: 9s\n",
            "67:\tlearn: 0.2972016\ttotal: 18.6s\tremaining: 8.76s\n",
            "68:\tlearn: 0.2956639\ttotal: 19s\tremaining: 8.54s\n",
            "69:\tlearn: 0.2928620\ttotal: 19.4s\tremaining: 8.3s\n",
            "70:\tlearn: 0.2911085\ttotal: 19.8s\tremaining: 8.08s\n",
            "71:\tlearn: 0.2895488\ttotal: 20.1s\tremaining: 7.83s\n",
            "72:\tlearn: 0.2882492\ttotal: 20.7s\tremaining: 7.66s\n",
            "73:\tlearn: 0.2857428\ttotal: 21.1s\tremaining: 7.41s\n",
            "74:\tlearn: 0.2841620\ttotal: 21.4s\tremaining: 7.14s\n",
            "75:\tlearn: 0.2826263\ttotal: 21.6s\tremaining: 6.82s\n",
            "76:\tlearn: 0.2810121\ttotal: 21.8s\tremaining: 6.52s\n",
            "77:\tlearn: 0.2792381\ttotal: 22.1s\tremaining: 6.22s\n",
            "78:\tlearn: 0.2777716\ttotal: 22.3s\tremaining: 5.93s\n",
            "79:\tlearn: 0.2752698\ttotal: 22.5s\tremaining: 5.63s\n",
            "80:\tlearn: 0.2735297\ttotal: 22.7s\tremaining: 5.33s\n",
            "81:\tlearn: 0.2723172\ttotal: 23.1s\tremaining: 5.08s\n",
            "82:\tlearn: 0.2708725\ttotal: 23.4s\tremaining: 4.8s\n",
            "83:\tlearn: 0.2699779\ttotal: 23.7s\tremaining: 4.5s\n",
            "84:\tlearn: 0.2680732\ttotal: 23.9s\tremaining: 4.22s\n",
            "85:\tlearn: 0.2657399\ttotal: 24.1s\tremaining: 3.93s\n",
            "86:\tlearn: 0.2633240\ttotal: 24.4s\tremaining: 3.64s\n",
            "87:\tlearn: 0.2618913\ttotal: 24.6s\tremaining: 3.35s\n",
            "88:\tlearn: 0.2608379\ttotal: 24.7s\tremaining: 3.06s\n",
            "89:\tlearn: 0.2595931\ttotal: 25s\tremaining: 2.77s\n",
            "90:\tlearn: 0.2580118\ttotal: 25.2s\tremaining: 2.49s\n",
            "91:\tlearn: 0.2571662\ttotal: 25.4s\tremaining: 2.21s\n",
            "92:\tlearn: 0.2562940\ttotal: 25.6s\tremaining: 1.93s\n",
            "93:\tlearn: 0.2546798\ttotal: 25.8s\tremaining: 1.65s\n",
            "94:\tlearn: 0.2532559\ttotal: 26s\tremaining: 1.37s\n",
            "95:\tlearn: 0.2519495\ttotal: 26.3s\tremaining: 1.09s\n",
            "96:\tlearn: 0.2513132\ttotal: 26.5s\tremaining: 820ms\n",
            "97:\tlearn: 0.2499475\ttotal: 26.7s\tremaining: 545ms\n",
            "98:\tlearn: 0.2488477\ttotal: 26.9s\tremaining: 272ms\n",
            "99:\tlearn: 0.2473984\ttotal: 27.1s\tremaining: 0us\n",
            "\n",
            "With Scaling:  0.9295830411076672\n",
            "-------------------------TEST SCORES-----------------------\n",
            "Recall: 0.9605959216891984\n",
            "Precision: 0.9045834841291805\n",
            "F1-Score: 0.9317486596423521\n",
            "Accuracy score: 0.9295830411076672\n",
            "AUC Score: 0.9295598699190423\n"
          ]
        }
      ],
      "source": [
        "import catboost as cb\n",
        "\n",
        "clf_8 = cb.CatBoostClassifier(n_estimators=100, max_depth=10)\n",
        "clf_8.fit(X_train_smoted, y_train_smoted)\n",
        "y_pred = clf_8.predict(X_test_smoted)\n",
        "\n",
        "print()\n",
        "print(\"With Scaling: \",accuracy_score(y_test_smoted,y_pred))\n",
        "\n",
        "print(\"-------------------------TEST SCORES-----------------------\")\n",
        "print(f\"Recall: { recall_score(y_test_smoted, y_pred) }\")\n",
        "print(f\"Precision: { precision_score(y_test_smoted, y_pred) }\")\n",
        "print(f\"F1-Score: { f1_score(y_test_smoted, y_pred) }\")\n",
        "print(f\"Accuracy score: { accuracy_score(y_test_smoted, y_pred) }\")\n",
        "print(f\"AUC Score: { roc_auc_score(y_test_smoted, y_pred) }\")"
      ]
    },
    {
      "cell_type": "code",
      "execution_count": null,
      "metadata": {
        "colab": {
          "base_uri": "https://localhost:8080/"
        },
        "id": "uZVdq8ILEd81",
        "outputId": "44c9d174-f755-4950-a550-545bca8bfa17"
      },
      "outputs": [
        {
          "output_type": "stream",
          "name": "stdout",
          "text": [
            "With Scaling:  0.5397615438564738\n",
            "-------------------------TEST SCORES-----------------------\n",
            "Recall: 0.5707374417868608\n",
            "Precision: 0.5377897068847989\n",
            "F1-Score: 0.5537739366952554\n",
            "Accuracy score: 0.5397615438564738\n",
            "AUC Score: 0.5397384002993351\n"
          ]
        }
      ],
      "source": [
        "from sklearn.linear_model import LogisticRegression\n",
        "\n",
        "clf_9 = LogisticRegression(solver = 'sag', random_state=100)\n",
        "\n",
        "clf_9.fit(X_train_smoted, y_train_smoted)\n",
        "y_pred = clf_9.predict(X_test_smoted)\n",
        "\n",
        "print(\"With Scaling: \",accuracy_score(y_test_smoted,y_pred))\n",
        "\n",
        "print(\"-------------------------TEST SCORES-----------------------\")\n",
        "print(f\"Recall: { recall_score(y_test_smoted, y_pred) }\")\n",
        "print(f\"Precision: { precision_score(y_test_smoted, y_pred) }\")\n",
        "print(f\"F1-Score: { f1_score(y_test_smoted, y_pred) }\")\n",
        "print(f\"Accuracy score: { accuracy_score(y_test_smoted, y_pred) }\")\n",
        "print(f\"AUC Score: { roc_auc_score(y_test_smoted, y_pred) }\")"
      ]
    },
    {
      "cell_type": "code",
      "execution_count": null,
      "metadata": {
        "colab": {
          "base_uri": "https://localhost:8080/"
        },
        "id": "phlwUHJY9G9f",
        "outputId": "cc9d4943-fcfc-4edf-f6f3-9a468bd652a9"
      },
      "outputs": [
        {
          "output_type": "stream",
          "name": "stdout",
          "text": [
            "[LightGBM] [Info] Number of positive: 132569, number of negative: 132635\n",
            "[LightGBM] [Info] Auto-choosing col-wise multi-threading, the overhead of testing was 0.098004 seconds.\n",
            "You can set `force_col_wise=true` to remove the overhead.\n",
            "[LightGBM] [Info] Total Bins 2084\n",
            "[LightGBM] [Info] Number of data points in the train set: 265204, number of used features: 11\n",
            "[LightGBM] [Info] [binary:BoostFromScore]: pavg=0.499876 -> initscore=-0.000498\n",
            "[LightGBM] [Info] Start training from score -0.000498\n",
            "\n",
            "With Scaling:  0.9353860772380715\n",
            "-------------------------TEST SCORES-----------------------\n",
            "Recall: 0.96771714066103\n",
            "Precision: 0.9090252707581228\n",
            "F1-Score: 0.9374534623976173\n",
            "Accuracy score: 0.9353860772380715\n",
            "AUC Score: 0.9353619211727537\n"
          ]
        }
      ],
      "source": [
        "import lightgbm as lgb\n",
        "\n",
        "clf_10 = lgb.LGBMClassifier(boosting_type = 'gbdt', learning_rate = 0.5, n_estimators = 200, importance_type = 'gini', random_state = 100)\n",
        "\n",
        "clf_10.fit(X_train_smoted, y_train_smoted)\n",
        "y_pred = clf_10.predict(X_test_smoted)\n",
        "\n",
        "print()\n",
        "print(\"With Scaling: \",accuracy_score(y_test_smoted,y_pred))\n",
        "\n",
        "print(\"-------------------------TEST SCORES-----------------------\")\n",
        "print(f\"Recall: { recall_score(y_test_smoted, y_pred) }\")\n",
        "print(f\"Precision: { precision_score(y_test_smoted, y_pred) }\")\n",
        "print(f\"F1-Score: { f1_score(y_test_smoted, y_pred) }\")\n",
        "print(f\"Accuracy score: { accuracy_score(y_test_smoted, y_pred) }\")\n",
        "print(f\"AUC Score: { roc_auc_score(y_test_smoted, y_pred) }\")"
      ]
    },
    {
      "cell_type": "code",
      "execution_count": null,
      "metadata": {
        "colab": {
          "base_uri": "https://localhost:8080/"
        },
        "id": "kP6x_8vb9HBn",
        "outputId": "d42d8be8-1e78-43dd-e502-0c5c723d2499"
      },
      "outputs": [
        {
          "output_type": "stream",
          "name": "stdout",
          "text": [
            "Epoch 1/10\n",
            "8288/8288 [==============================] - 32s 4ms/step - loss: 0.6186 - accuracy: 0.6538\n",
            "Epoch 2/10\n",
            "8288/8288 [==============================] - 24s 3ms/step - loss: 0.4976 - accuracy: 0.7771\n",
            "Epoch 3/10\n",
            "8288/8288 [==============================] - 23s 3ms/step - loss: 0.4423 - accuracy: 0.8194\n",
            "Epoch 4/10\n",
            "8288/8288 [==============================] - 25s 3ms/step - loss: 0.4136 - accuracy: 0.8383\n",
            "Epoch 5/10\n",
            "8288/8288 [==============================] - 26s 3ms/step - loss: 0.3926 - accuracy: 0.8498\n",
            "Epoch 6/10\n",
            "8288/8288 [==============================] - 23s 3ms/step - loss: 0.3798 - accuracy: 0.8582\n",
            "Epoch 7/10\n",
            "8288/8288 [==============================] - 24s 3ms/step - loss: 0.3692 - accuracy: 0.8637\n",
            "Epoch 8/10\n",
            "8288/8288 [==============================] - 27s 3ms/step - loss: 0.3597 - accuracy: 0.8683\n",
            "Epoch 9/10\n",
            "8288/8288 [==============================] - 23s 3ms/step - loss: 0.3521 - accuracy: 0.8727\n",
            "Epoch 10/10\n",
            "8288/8288 [==============================] - 25s 3ms/step - loss: 0.3453 - accuracy: 0.8759\n",
            "2763/2763 [==============================] - 5s 2ms/step\n",
            "\n",
            "With Scaling:  0.8731702902649261\n",
            "-------------------------TEST SCORES-----------------------\n",
            "Recall: 0.8843197540353575\n",
            "Precision: 0.8651906573476068\n",
            "F1-Score: 0.8746506271940613\n",
            "Accuracy score: 0.8731702902649261\n",
            "AUC Score: 0.9184864860506183\n"
          ]
        }
      ],
      "source": [
        "import tensorflow as tf\n",
        "from tensorflow.keras.models import Sequential\n",
        "from tensorflow.keras.layers import Dense, InputLayer\n",
        "from sklearn.metrics import accuracy_score, recall_score, precision_score, f1_score, roc_auc_score\n",
        "from sklearn.preprocessing import StandardScaler\n",
        "from scipy.sparse import issparse\n",
        "import numpy as np\n",
        "\n",
        "# Assuming X_train_smoted, X_test_smoted, y_train_smoted, and y_test_smoted are your training and testing data\n",
        "\n",
        "# Check if the data is sparse\n",
        "is_sparse = issparse(X_train_smoted)\n",
        "\n",
        "# Convert sparse data to dense array\n",
        "X_train_dense = X_train_smoted.toarray() if is_sparse else X_train_smoted\n",
        "X_test_dense = X_test_smoted.toarray() if is_sparse else X_test_smoted\n",
        "\n",
        "# Create a StandardScaler object with appropriate parameters\n",
        "scaler = StandardScaler(with_mean=not is_sparse)\n",
        "\n",
        "# Fit and transform the training data\n",
        "X_train_scaled = scaler.fit_transform(X_train_dense)\n",
        "\n",
        "# Transform the testing data\n",
        "X_test_scaled = scaler.transform(X_test_dense)\n",
        "\n",
        "# Build the ANN model\n",
        "model = Sequential()\n",
        "\n",
        "# Use InputLayer with sparse=True for sparse input data\n",
        "model.add(InputLayer(input_shape=(X_train_scaled.shape[1],), sparse=is_sparse))\n",
        "\n",
        "# Add hidden layers\n",
        "model.add(Dense(units=128, activation='relu'))\n",
        "model.add(Dense(units=64, activation='relu'))\n",
        "model.add(Dense(units=32, activation='relu'))\n",
        "\n",
        "# Add output layer\n",
        "model.add(Dense(units=1, activation='sigmoid'))\n",
        "\n",
        "# Compile the model\n",
        "model.compile(optimizer='adam', loss='binary_crossentropy', metrics=['accuracy'])\n",
        "\n",
        "# Train the model\n",
        "model.fit(X_train_scaled, y_train_smoted, epochs=10, batch_size=32, verbose=1)\n",
        "\n",
        "# Make predictions on the test set\n",
        "y_pred_ann_prob = model.predict(X_test_scaled)\n",
        "y_pred_ann = (y_pred_ann_prob > 0.5).astype(int)\n",
        "\n",
        "# Evaluate the model\n",
        "print()\n",
        "print(\"With Scaling: \", accuracy_score(y_test_smoted, y_pred_ann))\n",
        "\n",
        "print(\"-------------------------TEST SCORES-----------------------\")\n",
        "print(f\"Recall: {recall_score(y_test_smoted, y_pred_ann)}\")\n",
        "print(f\"Precision: {precision_score(y_test_smoted, y_pred_ann)}\")\n",
        "print(f\"F1-Score: {f1_score(y_test_smoted, y_pred_ann)}\")\n",
        "print(f\"Accuracy score: {accuracy_score(y_test_smoted, y_pred_ann)}\")\n",
        "print(f\"AUC Score: {roc_auc_score(y_test_smoted, y_pred_ann_prob)}\")\n"
      ]
    },
    {
      "cell_type": "code",
      "execution_count": null,
      "metadata": {
        "colab": {
          "base_uri": "https://localhost:8080/",
          "height": 245
        },
        "id": "TjAFvAK9-Vrl",
        "outputId": "58cac1d8-08fd-4034-cd47-d4aa3463370f"
      },
      "outputs": [
        {
          "output_type": "error",
          "ename": "NameError",
          "evalue": "ignored",
          "traceback": [
            "\u001b[0;31m---------------------------------------------------------------------------\u001b[0m",
            "\u001b[0;31mNameError\u001b[0m                                 Traceback (most recent call last)",
            "\u001b[0;32m<ipython-input-52-41f0c26eca0f>\u001b[0m in \u001b[0;36m<cell line: 4>\u001b[0;34m()\u001b[0m\n\u001b[1;32m      2\u001b[0m \u001b[0maccuracies\u001b[0m \u001b[0;34m=\u001b[0m \u001b[0;34m{\u001b[0m\u001b[0;34m}\u001b[0m\u001b[0;34m\u001b[0m\u001b[0;34m\u001b[0m\u001b[0m\n\u001b[1;32m      3\u001b[0m \u001b[0;34m\u001b[0m\u001b[0m\n\u001b[0;32m----> 4\u001b[0;31m \u001b[0;32mfor\u001b[0m \u001b[0mname\u001b[0m\u001b[0;34m,\u001b[0m \u001b[0mclassifier\u001b[0m \u001b[0;32min\u001b[0m \u001b[0mclassifiers\u001b[0m\u001b[0;34m.\u001b[0m\u001b[0mitems\u001b[0m\u001b[0;34m(\u001b[0m\u001b[0;34m)\u001b[0m\u001b[0;34m:\u001b[0m\u001b[0;34m\u001b[0m\u001b[0;34m\u001b[0m\u001b[0m\n\u001b[0m\u001b[1;32m      5\u001b[0m     \u001b[0;32mif\u001b[0m \u001b[0mname\u001b[0m \u001b[0;34m==\u001b[0m \u001b[0;34m'Neural Network'\u001b[0m\u001b[0;34m:\u001b[0m\u001b[0;34m\u001b[0m\u001b[0;34m\u001b[0m\u001b[0m\n\u001b[1;32m      6\u001b[0m         \u001b[0;31m# Scale the input features for the neural network\u001b[0m\u001b[0;34m\u001b[0m\u001b[0;34m\u001b[0m\u001b[0m\n",
            "\u001b[0;31mNameError\u001b[0m: name 'classifiers' is not defined"
          ]
        }
      ],
      "source": [
        "# Train classifiers and calculate accuracies\n",
        "accuracies = {}\n",
        "\n",
        "for name, classifier in classifiers.items():\n",
        "    if name == 'Neural Network':\n",
        "        # Scale the input features for the neural network\n",
        "        scaler = StandardScaler()\n",
        "        X_train_scaled_nn = scaler.fit_transform(X_train_smoted)\n",
        "        X_test_scaled_nn = scaler.transform(X_test_smoted)\n",
        "\n",
        "        # Build and train the ANN model\n",
        "        model = Sequential()\n",
        "        model.add(Dense(units=128, activation='relu', input_dim=X_train_scaled_nn.shape[1]))\n",
        "        model.add(Dense(units=64, activation='relu'))\n",
        "        model.add(Dense(units=32, activation='relu'))\n",
        "        model.add(Dense(units=1, activation='sigmoid'))\n",
        "        model.compile(optimizer='adam', loss='binary_crossentropy', metrics=['accuracy'])\n",
        "        model.fit(X_train_scaled_nn, y_train_smoted, epochs=10, batch_size=32, verbose=0)\n",
        "\n",
        "        # Make predictions on the test set\n",
        "        y_pred_ann_prob = model.predict(X_test_scaled_nn)\n",
        "        y_pred = (y_pred_ann_prob > 0.5).astype(int)\n",
        "    else:\n",
        "        # Train the other classifiers\n",
        "        classifier.fit(X_train_smoted, y_train_smoted)\n",
        "        y_pred = classifier.predict(X_test_smoted)\n",
        "\n",
        "    accuracy = accuracy_score(y_test_smoted, y_pred)\n",
        "    accuracies[name] = accuracy\n",
        "\n",
        "# Create bar graph\n",
        "plt.bar(accuracies.keys(), accuracies.values(), color=np.random.rand(len(accuracies), 3))\n",
        "plt.xlabel('Algorithms')\n",
        "plt.ylabel('Accuracy')\n",
        "plt.title('Algorithm Comparison')\n",
        "plt.ylim(0, 1)\n",
        "plt.xticks(rotation=45, ha=\"right\")\n",
        "plt.show()\n"
      ]
    },
    {
      "cell_type": "code",
      "source": [
        "from sklearn.ensemble import RandomForestClassifier\n",
        "from sklearn.svm import SVC\n",
        "from sklearn.linear_model import LogisticRegression\n",
        "from sklearn.neural_network import MLPClassifier\n",
        "from sklearn.preprocessing import StandardScaler\n",
        "from sklearn.metrics import accuracy_score\n",
        "from keras.models import Sequential\n",
        "from keras.layers import Dense\n",
        "import matplotlib.pyplot as plt\n",
        "import numpy as np\n",
        "\n",
        "# Assuming classifiers is a dictionary with names as keys and classifier instances as values\n",
        "classifiers = {\n",
        "    'Random Forest': RandomForestClassifier(),\n",
        "    'SVM': SVC(),\n",
        "    'Logistic Regression': LogisticRegression(),\n",
        "    'Neural Network': MLPClassifier()\n",
        "}\n",
        "\n",
        "# Assuming X_train_smoted, X_test_smoted, y_train_smoted, y_test_smoted are defined\n",
        "\n",
        "# Train classifiers and calculate accuracies\n",
        "accuracies = {}\n",
        "\n",
        "for name, classifier in classifiers.items():\n",
        "    if name == 'Neural Network':\n",
        "        # Scale the input features for the neural network\n",
        "        scaler = StandardScaler()\n",
        "        X_train_scaled_nn = scaler.fit_transform(X_train_smoted)\n",
        "        X_test_scaled_nn = scaler.transform(X_test_smoted)\n",
        "\n",
        "        # Build and train the ANN model\n",
        "        model = Sequential()\n",
        "        model.add(Dense(units=128, activation='relu', input_dim=X_train_scaled_nn.shape[1]))\n",
        "        model.add(Dense(units=64, activation='relu'))\n",
        "        model.add(Dense(units=32, activation='relu'))\n",
        "        model.add(Dense(units=1, activation='sigmoid'))\n",
        "        model.compile(optimizer='adam', loss='binary_crossentropy', metrics=['accuracy'])\n",
        "        model.fit(X_train_scaled_nn, y_train_smoted, epochs=10, batch_size=32, verbose=0)\n",
        "\n",
        "        # Make predictions on the test set\n",
        "        y_pred_ann_prob = model.predict(X_test_scaled_nn)\n",
        "        y_pred = (y_pred_ann_prob > 0.5).astype(int)\n",
        "    else:\n",
        "        # Train the other classifiers\n",
        "        classifier.fit(X_train_smoted, y_train_smoted)\n",
        "        y_pred = classifier.predict(X_test_smoted)\n",
        "\n",
        "    accuracy = accuracy_score(y_test_smoted, y_pred)\n",
        "    accuracies[name] = accuracy\n",
        "\n",
        "# Create bar graph\n",
        "plt.bar(accuracies.keys(), accuracies.values(), color=np.random.rand(len(accuracies), 3))\n",
        "plt.xlabel('Algorithms')\n",
        "plt.ylabel('Accuracy')\n",
        "plt.title('Algorithm Comparison')\n",
        "plt.ylim(0, 1)\n",
        "plt.xticks(rotation=45, ha=\"right\")\n",
        "plt.show()\n"
      ],
      "metadata": {
        "id": "GrsAUhT6Kr49"
      },
      "execution_count": null,
      "outputs": []
    },
    {
      "cell_type": "code",
      "source": [],
      "metadata": {
        "id": "iJkA0wyEduWO"
      },
      "execution_count": null,
      "outputs": []
    },
    {
      "cell_type": "code",
      "source": [],
      "metadata": {
        "id": "8HOPdALQduZ6"
      },
      "execution_count": null,
      "outputs": []
    },
    {
      "cell_type": "code",
      "source": [],
      "metadata": {
        "id": "DzcAjlbhducO"
      },
      "execution_count": null,
      "outputs": []
    },
    {
      "cell_type": "code",
      "execution_count": null,
      "metadata": {
        "id": "dd38pVvRYAtf"
      },
      "outputs": [],
      "source": [
        "!pip install joblib flask ngrok\n"
      ]
    },
    {
      "cell_type": "code",
      "execution_count": null,
      "metadata": {
        "id": "qb3_M6FJYAv2"
      },
      "outputs": [],
      "source": [
        "import joblib\n",
        "\n",
        "# Save the trained Extra Trees model\n",
        "joblib.dump(clf_6, 'extra_trees_model.pkl')\n"
      ]
    },
    {
      "cell_type": "code",
      "execution_count": null,
      "metadata": {
        "id": "h5FMpNqWo3m-"
      },
      "outputs": [],
      "source": [
        "import joblib\n",
        "\n",
        "# Load the saved Extra Trees model\n",
        "model = joblib.load('extra_trees_model.pkl')\n"
      ]
    },
    {
      "cell_type": "code",
      "execution_count": null,
      "metadata": {
        "id": "jfq4TbQFo3pv"
      },
      "outputs": [],
      "source": [
        "from flask import Flask, request, jsonify\n",
        "import joblib\n",
        "\n",
        "# Load the saved Extra Trees model\n",
        "model = joblib.load('extra_trees_model.pkl')\n",
        "\n",
        "# Create a Flask application\n",
        "app = Flask(__name__)\n",
        "\n",
        "# Define an API endpoint to receive customer data and make predictions\n",
        "@app.route('/predict', methods=['POST'])\n",
        "def predict():\n",
        "    # Receive customer data from the request\n",
        "    customer_data = request.get_json()\n",
        "    income = customer_data['income']\n",
        "    age = customer_data['age']\n",
        "    experience = customer_data['experience']\n",
        "    married_single = customer_data['married_single']\n",
        "    house_ownership = customer_data['house_ownership']\n",
        "    car_ownership = customer_data['car_ownership']\n",
        "    profession = customer_data['profession']\n",
        "    city = customer_data['city']\n",
        "    state = customer_data['state']\n",
        "    current_job_yrs = customer_data['current_job_yrs']\n",
        "    current_house_yrs = customer_data['current_house_yrs']\n",
        "\n",
        "    # Prepare customer data for prediction\n",
        "    customer_features = [income, age, experience, married_single, house_ownership, car_ownership, profession, city, state, current_job_yrs, current_house_yrs]\n",
        "\n",
        "    # Make a prediction using the Extra Trees model\n",
        "    prediction = model.predict([customer_features])\n",
        "\n",
        "    # Return the prediction as a JSON response\n",
        "    return jsonify({'prediction': prediction[0]})\n"
      ]
    },
    {
      "cell_type": "code",
      "execution_count": null,
      "metadata": {
        "id": "mzY1uFUeo3se"
      },
      "outputs": [],
      "source": [
        "if __name__ == '__main__':\n",
        "    # Run the Flask application on port 5000\n",
        "    app.run(host='0.0.0.0', port=5000)\n"
      ]
    },
    {
      "cell_type": "code",
      "execution_count": null,
      "metadata": {
        "id": "vd7o7l19o3vy"
      },
      "outputs": [],
      "source": []
    },
    {
      "cell_type": "code",
      "execution_count": null,
      "metadata": {
        "id": "OUA_LXfXo35e"
      },
      "outputs": [],
      "source": [
        "\n"
      ]
    }
  ],
  "metadata": {
    "colab": {
      "provenance": [],
      "toc_visible": true
    },
    "kernelspec": {
      "display_name": "Python 3",
      "name": "python3"
    },
    "language_info": {
      "name": "python"
    },
    "widgets": {
      "application/vnd.jupyter.widget-state+json": {
        "670f5d9172d04829891124e068a3ad2c": {
          "model_module": "@jupyter-widgets/controls",
          "model_name": "HBoxModel",
          "model_module_version": "1.5.0",
          "state": {
            "_dom_classes": [],
            "_model_module": "@jupyter-widgets/controls",
            "_model_module_version": "1.5.0",
            "_model_name": "HBoxModel",
            "_view_count": null,
            "_view_module": "@jupyter-widgets/controls",
            "_view_module_version": "1.5.0",
            "_view_name": "HBoxView",
            "box_style": "",
            "children": [
              "IPY_MODEL_51bfc85e35d34a4bab0706a5d4baa346",
              "IPY_MODEL_389647597e6d4e73a5d9d96c951a2bab",
              "IPY_MODEL_9f3a6db0f1fe442a9880c2b710c89b89"
            ],
            "layout": "IPY_MODEL_9061c50308c24d80a3c1a6daa3575af9"
          }
        },
        "51bfc85e35d34a4bab0706a5d4baa346": {
          "model_module": "@jupyter-widgets/controls",
          "model_name": "HTMLModel",
          "model_module_version": "1.5.0",
          "state": {
            "_dom_classes": [],
            "_model_module": "@jupyter-widgets/controls",
            "_model_module_version": "1.5.0",
            "_model_name": "HTMLModel",
            "_view_count": null,
            "_view_module": "@jupyter-widgets/controls",
            "_view_module_version": "1.5.0",
            "_view_name": "HTMLView",
            "description": "",
            "description_tooltip": null,
            "layout": "IPY_MODEL_5deed1d4ca474506bcb89ddd86bd2bba",
            "placeholder": "​",
            "style": "IPY_MODEL_86536051495c4330931b2bee8ad3d953",
            "value": "Done! Use &#x27;show&#x27; commands to display/save.   "
          }
        },
        "389647597e6d4e73a5d9d96c951a2bab": {
          "model_module": "@jupyter-widgets/controls",
          "model_name": "FloatProgressModel",
          "model_module_version": "1.5.0",
          "state": {
            "_dom_classes": [],
            "_model_module": "@jupyter-widgets/controls",
            "_model_module_version": "1.5.0",
            "_model_name": "FloatProgressModel",
            "_view_count": null,
            "_view_module": "@jupyter-widgets/controls",
            "_view_module_version": "1.5.0",
            "_view_name": "ProgressView",
            "bar_style": "success",
            "description": "",
            "description_tooltip": null,
            "layout": "IPY_MODEL_d3928ac49f024344b835c2d00bfea4ed",
            "max": 1,
            "min": 0,
            "orientation": "horizontal",
            "style": "IPY_MODEL_b98f61e59a94486596c726322a54ba5c",
            "value": 1
          }
        },
        "9f3a6db0f1fe442a9880c2b710c89b89": {
          "model_module": "@jupyter-widgets/controls",
          "model_name": "HTMLModel",
          "model_module_version": "1.5.0",
          "state": {
            "_dom_classes": [],
            "_model_module": "@jupyter-widgets/controls",
            "_model_module_version": "1.5.0",
            "_model_name": "HTMLModel",
            "_view_count": null,
            "_view_module": "@jupyter-widgets/controls",
            "_view_module_version": "1.5.0",
            "_view_name": "HTMLView",
            "description": "",
            "description_tooltip": null,
            "layout": "IPY_MODEL_08d5464f05414ddaa81a14940ba3418b",
            "placeholder": "​",
            "style": "IPY_MODEL_4760d61df4044d7282b90b8e97f24788",
            "value": " [100%]   00:02 -&gt; (00:00 left)"
          }
        },
        "9061c50308c24d80a3c1a6daa3575af9": {
          "model_module": "@jupyter-widgets/base",
          "model_name": "LayoutModel",
          "model_module_version": "1.2.0",
          "state": {
            "_model_module": "@jupyter-widgets/base",
            "_model_module_version": "1.2.0",
            "_model_name": "LayoutModel",
            "_view_count": null,
            "_view_module": "@jupyter-widgets/base",
            "_view_module_version": "1.2.0",
            "_view_name": "LayoutView",
            "align_content": null,
            "align_items": null,
            "align_self": null,
            "border": null,
            "bottom": null,
            "display": "inline-flex",
            "flex": null,
            "flex_flow": "row wrap",
            "grid_area": null,
            "grid_auto_columns": null,
            "grid_auto_flow": null,
            "grid_auto_rows": null,
            "grid_column": null,
            "grid_gap": null,
            "grid_row": null,
            "grid_template_areas": null,
            "grid_template_columns": null,
            "grid_template_rows": null,
            "height": null,
            "justify_content": null,
            "justify_items": null,
            "left": null,
            "margin": null,
            "max_height": null,
            "max_width": null,
            "min_height": null,
            "min_width": null,
            "object_fit": null,
            "object_position": null,
            "order": null,
            "overflow": null,
            "overflow_x": null,
            "overflow_y": null,
            "padding": null,
            "right": null,
            "top": null,
            "visibility": null,
            "width": "100%"
          }
        },
        "5deed1d4ca474506bcb89ddd86bd2bba": {
          "model_module": "@jupyter-widgets/base",
          "model_name": "LayoutModel",
          "model_module_version": "1.2.0",
          "state": {
            "_model_module": "@jupyter-widgets/base",
            "_model_module_version": "1.2.0",
            "_model_name": "LayoutModel",
            "_view_count": null,
            "_view_module": "@jupyter-widgets/base",
            "_view_module_version": "1.2.0",
            "_view_name": "LayoutView",
            "align_content": null,
            "align_items": null,
            "align_self": null,
            "border": null,
            "bottom": null,
            "display": null,
            "flex": null,
            "flex_flow": null,
            "grid_area": null,
            "grid_auto_columns": null,
            "grid_auto_flow": null,
            "grid_auto_rows": null,
            "grid_column": null,
            "grid_gap": null,
            "grid_row": null,
            "grid_template_areas": null,
            "grid_template_columns": null,
            "grid_template_rows": null,
            "height": null,
            "justify_content": null,
            "justify_items": null,
            "left": null,
            "margin": null,
            "max_height": null,
            "max_width": null,
            "min_height": null,
            "min_width": null,
            "object_fit": null,
            "object_position": null,
            "order": null,
            "overflow": null,
            "overflow_x": null,
            "overflow_y": null,
            "padding": null,
            "right": null,
            "top": null,
            "visibility": null,
            "width": null
          }
        },
        "86536051495c4330931b2bee8ad3d953": {
          "model_module": "@jupyter-widgets/controls",
          "model_name": "DescriptionStyleModel",
          "model_module_version": "1.5.0",
          "state": {
            "_model_module": "@jupyter-widgets/controls",
            "_model_module_version": "1.5.0",
            "_model_name": "DescriptionStyleModel",
            "_view_count": null,
            "_view_module": "@jupyter-widgets/base",
            "_view_module_version": "1.2.0",
            "_view_name": "StyleView",
            "description_width": ""
          }
        },
        "d3928ac49f024344b835c2d00bfea4ed": {
          "model_module": "@jupyter-widgets/base",
          "model_name": "LayoutModel",
          "model_module_version": "1.2.0",
          "state": {
            "_model_module": "@jupyter-widgets/base",
            "_model_module_version": "1.2.0",
            "_model_name": "LayoutModel",
            "_view_count": null,
            "_view_module": "@jupyter-widgets/base",
            "_view_module_version": "1.2.0",
            "_view_name": "LayoutView",
            "align_content": null,
            "align_items": null,
            "align_self": null,
            "border": null,
            "bottom": null,
            "display": null,
            "flex": "2",
            "flex_flow": null,
            "grid_area": null,
            "grid_auto_columns": null,
            "grid_auto_flow": null,
            "grid_auto_rows": null,
            "grid_column": null,
            "grid_gap": null,
            "grid_row": null,
            "grid_template_areas": null,
            "grid_template_columns": null,
            "grid_template_rows": null,
            "height": null,
            "justify_content": null,
            "justify_items": null,
            "left": null,
            "margin": null,
            "max_height": null,
            "max_width": null,
            "min_height": null,
            "min_width": null,
            "object_fit": null,
            "object_position": null,
            "order": null,
            "overflow": null,
            "overflow_x": null,
            "overflow_y": null,
            "padding": null,
            "right": null,
            "top": null,
            "visibility": null,
            "width": null
          }
        },
        "b98f61e59a94486596c726322a54ba5c": {
          "model_module": "@jupyter-widgets/controls",
          "model_name": "ProgressStyleModel",
          "model_module_version": "1.5.0",
          "state": {
            "_model_module": "@jupyter-widgets/controls",
            "_model_module_version": "1.5.0",
            "_model_name": "ProgressStyleModel",
            "_view_count": null,
            "_view_module": "@jupyter-widgets/base",
            "_view_module_version": "1.2.0",
            "_view_name": "StyleView",
            "bar_color": null,
            "description_width": ""
          }
        },
        "08d5464f05414ddaa81a14940ba3418b": {
          "model_module": "@jupyter-widgets/base",
          "model_name": "LayoutModel",
          "model_module_version": "1.2.0",
          "state": {
            "_model_module": "@jupyter-widgets/base",
            "_model_module_version": "1.2.0",
            "_model_name": "LayoutModel",
            "_view_count": null,
            "_view_module": "@jupyter-widgets/base",
            "_view_module_version": "1.2.0",
            "_view_name": "LayoutView",
            "align_content": null,
            "align_items": null,
            "align_self": null,
            "border": null,
            "bottom": null,
            "display": null,
            "flex": null,
            "flex_flow": null,
            "grid_area": null,
            "grid_auto_columns": null,
            "grid_auto_flow": null,
            "grid_auto_rows": null,
            "grid_column": null,
            "grid_gap": null,
            "grid_row": null,
            "grid_template_areas": null,
            "grid_template_columns": null,
            "grid_template_rows": null,
            "height": null,
            "justify_content": null,
            "justify_items": null,
            "left": null,
            "margin": null,
            "max_height": null,
            "max_width": null,
            "min_height": null,
            "min_width": null,
            "object_fit": null,
            "object_position": null,
            "order": null,
            "overflow": null,
            "overflow_x": null,
            "overflow_y": null,
            "padding": null,
            "right": null,
            "top": null,
            "visibility": null,
            "width": null
          }
        },
        "4760d61df4044d7282b90b8e97f24788": {
          "model_module": "@jupyter-widgets/controls",
          "model_name": "DescriptionStyleModel",
          "model_module_version": "1.5.0",
          "state": {
            "_model_module": "@jupyter-widgets/controls",
            "_model_module_version": "1.5.0",
            "_model_name": "DescriptionStyleModel",
            "_view_count": null,
            "_view_module": "@jupyter-widgets/base",
            "_view_module_version": "1.2.0",
            "_view_name": "StyleView",
            "description_width": ""
          }
        }
      }
    }
  },
  "nbformat": 4,
  "nbformat_minor": 0
}